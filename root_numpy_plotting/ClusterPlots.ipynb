{
 "cells": [
  {
   "cell_type": "code",
   "execution_count": 1,
   "metadata": {},
   "outputs": [
    {
     "name": "stdout",
     "output_type": "stream",
     "text": [
      "Welcome to JupyROOT 6.10/09\n",
      "\n",
      "\u001b[92mApplying ATLAS style settings...\u001b[0m\n",
      "\n"
     ]
    }
   ],
   "source": [
    "from PlottingTools.Plotter import Plotter, DrawDataVsMC, DivideHistograms\n",
    "import ROOT"
   ]
  },
  {
   "cell_type": "code",
   "execution_count": 2,
   "metadata": {},
   "outputs": [],
   "source": [
    "from inputs.samples import INPUT"
   ]
  },
  {
   "cell_type": "code",
   "execution_count": 3,
   "metadata": {},
   "outputs": [],
   "source": [
    "plots = Plotter(INPUT, \"EoverP_ClusterEnergyInDetTrackParticlesLoose_tree\", base_selections = \"(abs(trk_z0sintheta) < 1.5) && (abs(trk_d0) < 1.5)\")"
   ]
  },
  {
   "cell_type": "code",
   "execution_count": 4,
   "metadata": {},
   "outputs": [
    {
     "name": "stdout",
     "output_type": "stream",
     "text": [
      "349323264\n",
      "Evaluating weights\n",
      "358260736\n",
      "358260736\n",
      "358260736\n",
      "no normalization weights found for file /Users/lukasadamek/cernbox/EOPTuples/haddedTogether/EOPTuples_v02/user.luadamek.luadamek.data17_13TeV.00341294.Sept26_EOPTree_hist\n",
      "370225152\n",
      "Evaluating weights\n",
      "getting the xsection weight\n",
      "370233344\n",
      "370233344\n",
      "370237440\n",
      "no normalization weights found for file /Users/lukasadamek/cernbox/EOPTuples/haddedTogether/EOPTuples_v02/user.luadamek.mc16_13TeV.361020.jetjet.Sept21_2018_EOP_noTrigger_hist\n",
      "384032768\n",
      "Evaluating weights\n",
      "getting the xsection weight\n",
      "393875456\n",
      "393879552\n",
      "393879552\n",
      "no normalization weights found for file /Users/lukasadamek/cernbox/EOPTuples/haddedTogether/EOPTuples_v02/user.luadamek.mc16_13TeV.361021.jetjet.Sept21_2018_EOP_noTrigger_hist\n",
      "407465984\n",
      "Evaluating weights\n",
      "getting the xsection weight\n",
      "407470080\n",
      "407470080\n",
      "407470080\n",
      "no normalization weights found for file /Users/lukasadamek/cernbox/EOPTuples/haddedTogether/EOPTuples_v02/user.luadamek.mc16_13TeV.361022.jetjet.Sept21_2018_EOP_noTrigger_hist\n",
      "('This is the normalization of MC to Data', 0.015534065886436845)\n"
     ]
    },
    {
     "name": "stderr",
     "output_type": "stream",
     "text": [
      "Warning in <TClass::Init>: no dictionary for class ROOT::TIOFeatures is available\n"
     ]
    }
   ],
   "source": [
    "DataTracks = plots.GetNumberOfTracks(\"MinBiasData\")\n",
    "MCTracks = plots.GetNumberOfTracks(\"PythiaJetJet\")\n",
    "print(\"This is the normalization of MC to Data\", DataTracks/MCTracks)\n",
    "plots.SetTotalTrackNumberNormalization(\"PythiaJetJet\", DataTracks/MCTracks)"
   ]
  },
  {
   "cell_type": "code",
   "execution_count": 5,
   "metadata": {},
   "outputs": [],
   "source": [
    "#import thje variables that we want to plot\n",
    "from variables.variables import \\\n",
    "calc_trkNearestNeighbourEM2, \\\n",
    "calc_trkP, \\\n",
    "calc_EOP, \\\n",
    "calc_trkPt, \\\n",
    "calc_trkAverageMu, \\\n",
    "calc_trkEtaID, \\\n",
    "calc_trkEtaECAL\n",
    "\n",
    "#import the selections that we want to plot\n",
    "from selections.selections import \\\n",
    "sel_NTRT20, \\\n",
    "sel_NTRT25, \\\n",
    "sel_NTRT30, \\\n",
    "sel_ECALEta0_6, \\\n",
    "sel_PGreater1 ,\\\n",
    "sel_PGreater1_5, \\\n",
    "sel_PGreater2, \\\n",
    "sel_PGreater2_5, \\\n",
    "sel_Z0SinThetaLess1_5, \\\n",
    "sel_d0Less1_5\n",
    "\n",
    "#impot the ID selections that we want to plot\n",
    "from selections.selections import \\\n",
    "sel_IDEta0_6,\\\n",
    "sel_IDEta06_11,\\\n",
    "sel_IDEta11_14,\\\n",
    "sel_IDEta14_15, \\\n",
    "sel_IDEta15_18, \\\n",
    "sel_IDEta18_23"
   ]
  },
  {
   "cell_type": "code",
   "execution_count": 6,
   "metadata": {},
   "outputs": [
    {
     "name": "stdout",
     "output_type": "stream",
     "text": [
      "Reading files for channel MinBiasData\n",
      "434438144\n",
      "Evaluating weights\n",
      "434454528\n",
      "434454528\n",
      "434454528\n",
      "no normalization weights found for file /Users/lukasadamek/cernbox/EOPTuples/haddedTogether/EOPTuples_v02/user.luadamek.luadamek.data17_13TeV.00341294.Sept26_EOPTree_hist\n",
      "applying selection to variable trkAverageMu\n",
      "Reading files for channel PythiaJetJet\n",
      "449429504\n",
      "Evaluating weights\n",
      "getting the xsection weight\n",
      "449433600\n",
      "449433600\n",
      "449433600\n",
      "Found renormalization weights for file /Users/lukasadamek/cernbox/EOPTuples/haddedTogether/EOPTuples_v02/user.luadamek.mc16_13TeV.361020.jetjet.Sept21_2018_EOP_noTrigger_hist\n",
      "applying selection to variable trkAverageMu\n",
      "483774464\n",
      "Evaluating weights\n",
      "getting the xsection weight\n",
      "483774464\n",
      "483774464\n",
      "483774464\n",
      "Found renormalization weights for file /Users/lukasadamek/cernbox/EOPTuples/haddedTogether/EOPTuples_v02/user.luadamek.mc16_13TeV.361021.jetjet.Sept21_2018_EOP_noTrigger_hist\n",
      "applying selection to variable trkAverageMu\n",
      "504647680\n",
      "Evaluating weights\n",
      "getting the xsection weight\n",
      "504647680\n",
      "504647680\n",
      "504647680\n",
      "Found renormalization weights for file /Users/lukasadamek/cernbox/EOPTuples/haddedTogether/EOPTuples_v02/user.luadamek.mc16_13TeV.361022.jetjet.Sept21_2018_EOP_noTrigger_hist\n",
      "applying selection to variable trkAverageMu\n",
      "         1438 function calls (1422 primitive calls) in 16.281 seconds\n",
      "\n",
      "   Ordered by: standard name\n",
      "\n",
      "   ncalls  tottime  percall  cumtime  percall filename:lineno(function)\n",
      "        1    0.003    0.003   16.281   16.281 <string>:1(<module>)\n",
      "       16    0.000    0.000    0.000    0.000 <string>:8(__new__)\n",
      "        4    0.000    0.000    0.000    0.000 DataPrep.py:17(branchDresser)\n",
      "        3    0.000    0.000    0.000    0.000 DataPrep.py:21(getXSectionWeight)\n",
      "        4    0.000    0.000    0.000    0.000 DataPrep.py:31(getIsData)\n",
      "        4    0.111    0.028   15.982    3.995 DataPrep.py:34(GetData)\n",
      "        4    0.000    0.000    0.000    0.000 Plotter.py:279(GetListOfNeededBranches)\n",
      "        4    0.000    0.000    0.001    0.000 Plotter.py:338(CheckForNormalizationWeights)\n",
      "        4    0.108    0.027    0.108    0.027 Plotter.py:363(GetNumEntries)\n",
      "        4    0.070    0.017   16.175    4.044 Plotter.py:399(GetVariablesAndWeights)\n",
      "        1    0.040    0.040   16.278   16.278 Plotter.py:437(GetHistograms)\n",
      "        8    0.000    0.000    0.000    0.000 ROOT.py:312(_importhook)\n",
      "        3    0.000    0.000    0.006    0.002 ROOT.py:427(__getattr2)\n",
      "       16    0.000    0.000    0.001    0.000 __init__.py:1038(memory_info)\n",
      "    32/16    0.000    0.000    0.001    0.000 _common.py:337(wrapper)\n",
      "        4    0.000    0.000    0.062    0.016 _hist.py:22(fill_hist)\n",
      "       16    0.000    0.000    0.001    0.000 _psosx.py:332(wrapper)\n",
      "       32    0.000    0.000    0.000    0.000 _psosx.py:347(catch_zombie)\n",
      "       16    0.000    0.000    0.001    0.000 _psosx.py:390(_get_pidtaskinfo)\n",
      "       16    0.000    0.000    0.001    0.000 _psosx.py:461(memory_info)\n",
      "        5    0.000    0.000    0.000    0.000 _pythonization.py:169(__call__)\n",
      "        4    0.000    0.000   15.863    3.966 _tree.py:291(tree2array)\n",
      "        4    0.000    0.000    0.002    0.001 calculation.py:10(eval)\n",
      "        4    0.000    0.000    0.000    0.000 calculation.py:21(eval)\n",
      "       16    0.000    0.000    0.000    0.000 contextlib.py:12(__init__)\n",
      "       16    0.000    0.000    0.000    0.000 contextlib.py:15(__enter__)\n",
      "       16    0.000    0.000    0.000    0.000 contextlib.py:21(__exit__)\n",
      "       16    0.000    0.000    0.000    0.000 contextlib.py:82(helper)\n",
      "       72    0.000    0.000    0.006    0.000 iostream.py:195(schedule)\n",
      "       66    0.000    0.000    0.000    0.000 iostream.py:307(_is_master_process)\n",
      "       66    0.000    0.000    0.000    0.000 iostream.py:320(_schedule_flush)\n",
      "       66    0.000    0.000    0.007    0.000 iostream.py:382(write)\n",
      "       72    0.000    0.000    0.000    0.000 iostream.py:93(_event_pipe)\n",
      "        5    0.000    0.000    0.016    0.003 numeric.py:156(ones)\n",
      "        8    0.000    0.000    0.000    0.000 numeric.py:433(asarray)\n",
      "        8    0.000    0.000    0.000    0.000 re.py:138(match)\n",
      "        8    0.000    0.000    0.000    0.000 re.py:230(_compile)\n",
      "       72    0.005    0.000    0.005    0.000 socket.py:334(send)\n",
      "       72    0.000    0.000    0.000    0.000 threading.py:570(isSet)\n",
      "       72    0.000    0.000    0.000    0.000 threading.py:995(isAlive)\n",
      "       66    0.000    0.000    0.000    0.000 utf_8.py:15(decode)\n",
      "        4    0.000    0.000    0.000    0.000 variables.py:58(trkAverageMu)\n",
      "        4    0.000    0.000    0.002    0.001 variables.py:88(weight)\n",
      "        8    0.000    0.000    0.000    0.000 {__import__}\n",
      "       66    0.000    0.000    0.000    0.000 {_codecs.utf_8_decode}\n",
      "        4    0.056    0.014    0.056    0.014 {_librootnumpy.fill_h1}\n",
      "        4   15.863    3.966   15.863    3.966 {_librootnumpy.root2array_fromtree}\n",
      "       16    0.000    0.000    0.000    0.000 {built-in method __new__ of type object at 0x7fff88f5e458}\n",
      "       98    0.000    0.000    0.000    0.000 {isinstance}\n",
      "       37    0.000    0.000    0.000    0.000 {len}\n",
      "        8    0.000    0.000    0.000    0.000 {libPyROOT.AsCObject}\n",
      "        3    0.006    0.002    0.006    0.002 {libPyROOT.LookupCppEntity}\n",
      "       72    0.000    0.000    0.000    0.000 {method 'append' of 'collections.deque' objects}\n",
      "        8    0.000    0.000    0.000    0.000 {method 'append' of 'list' objects}\n",
      "       66    0.000    0.000    0.000    0.000 {method 'decode' of 'str' objects}\n",
      "        1    0.000    0.000    0.000    0.000 {method 'disable' of '_lsprof.Profiler' objects}\n",
      "       13    0.000    0.000    0.000    0.000 {method 'match' of '_sre.SRE_Pattern' objects}\n",
      "        8    0.000    0.000    0.000    0.000 {numpy.core.multiarray.array}\n",
      "        5    0.013    0.003    0.013    0.003 {numpy.core.multiarray.copyto}\n",
      "        5    0.002    0.000    0.002    0.000 {numpy.core.multiarray.empty}\n",
      "       66    0.000    0.000    0.000    0.000 {posix.getpid}\n",
      "       16    0.000    0.000    0.000    0.000 {psutil._psutil_osx.proc_pidtaskinfo_oneshot}\n",
      "\n",
      "\n"
     ]
    },
    {
     "name": "stderr",
     "output_type": "stream",
     "text": [
      "Warning in <TROOT::Append>: Replacing existing TH1: HistogramtrkAverageMu0 (Potential memory leak).\n"
     ]
    },
    {
     "data": {
      "image/png": "[encoded data removed]",
      "text/plain": [
       "<IPython.core.display.Image object>"
      ]
     },
     "metadata": {},
     "output_type": "display_data"
    }
   ],
   "source": [
    "selections = []\n",
    "import cProfile\n",
    "cProfile.run(\"trkAverageMuHist = plots.GetHistograms(calc_trkAverageMu,\\\n",
    "                                       list_selections = selections,\\\n",
    "                                       bins = 10,\\\n",
    "                                       range_low = 0.0, \\\n",
    "                                       range_high = 10.0,\\\n",
    "                                       xlabel ='Average #mu of Event',\\\n",
    "                                       ylabel = 'Number of Tracks')\")\n",
    "description = \"Inclusive Selection\"\n",
    "DataVsMC = DrawDataVsMC(trkAverageMuHist,\\\n",
    "                        plots.channelLabels,\\\n",
    "                        MCKey='PythiaJetJet',\\\n",
    "                        DataKey='MinBiasData',\\\n",
    "                        extra_description = description)\n",
    "DataVsMC.Draw()"
   ]
  },
  {
   "cell_type": "code",
   "execution_count": 7,
   "metadata": {},
   "outputs": [
    {
     "name": "stdout",
     "output_type": "stream",
     "text": [
      "Reading files for channel MinBiasData\n",
      "536129536\n",
      "Evaluating weights\n",
      "536129536\n",
      "536129536\n",
      "536129536\n",
      "no normalization weights found for file /Users/lukasadamek/cernbox/EOPTuples/haddedTogether/EOPTuples_v02/user.luadamek.luadamek.data17_13TeV.00341294.Sept26_EOPTree_hist\n",
      "applying selection to variable trkPt\n",
      "Reading files for channel PythiaJetJet\n",
      "551587840\n",
      "Evaluating weights\n",
      "getting the xsection weight\n",
      "551587840\n",
      "551587840\n",
      "551587840\n",
      "Found renormalization weights for file /Users/lukasadamek/cernbox/EOPTuples/haddedTogether/EOPTuples_v02/user.luadamek.mc16_13TeV.361020.jetjet.Sept21_2018_EOP_noTrigger_hist\n",
      "applying selection to variable trkPt\n",
      "571293696\n",
      "Evaluating weights\n",
      "getting the xsection weight\n",
      "571293696\n",
      "571293696\n",
      "571293696\n",
      "Found renormalization weights for file /Users/lukasadamek/cernbox/EOPTuples/haddedTogether/EOPTuples_v02/user.luadamek.mc16_13TeV.361021.jetjet.Sept21_2018_EOP_noTrigger_hist\n",
      "applying selection to variable trkPt\n",
      "571867136\n",
      "Evaluating weights\n",
      "getting the xsection weight\n",
      "571867136\n",
      "571867136\n",
      "571867136\n",
      "Found renormalization weights for file /Users/lukasadamek/cernbox/EOPTuples/haddedTogether/EOPTuples_v02/user.luadamek.mc16_13TeV.361022.jetjet.Sept21_2018_EOP_noTrigger_hist\n",
      "applying selection to variable trkPt\n"
     ]
    },
    {
     "name": "stderr",
     "output_type": "stream",
     "text": [
      "Warning in <TROOT::Append>: Replacing existing TH1: HistogramtrkPt1 (Potential memory leak).\n"
     ]
    },
    {
     "data": {
      "image/png": "[encoded data removed]",
      "text/plain": [
       "<IPython.core.display.Image object>"
      ]
     },
     "metadata": {},
     "output_type": "display_data"
    }
   ],
   "source": [
    "trkPtHistZoom = plots.GetHistograms(calc_trkPt, \\\n",
    "                                    list_selections = [], \\\n",
    "                                    bins = 200, \\\n",
    "                                    range_low = 0.5, \\\n",
    "                                    range_high = 5, \\\n",
    "                                    xlabel =\"Track P_{T} [GeV]\",\\\n",
    "                                    ylabel = \"Number of Tracks\")\n",
    "description = \"Inclusive Selection\"\n",
    "trkPtHistZoomCanvas = DrawDataVsMC(trkPtHistZoom, \\\n",
    "                                   plots.channelLabels,\\\n",
    "                                   MCKey='PythiaJetJet',\\\n",
    "                                   DataKey='MinBiasData',\\\n",
    "                                   extra_description = description)\n",
    "\n",
    "trkPtHistZoomCanvas.Draw()"
   ]
  },
  {
   "cell_type": "code",
   "execution_count": 8,
   "metadata": {},
   "outputs": [
    {
     "name": "stdout",
     "output_type": "stream",
     "text": [
      "Reading files for channel MinBiasData\n",
      "535924736\n",
      "Evaluating weights\n",
      "535932928\n",
      "535932928\n",
      "535932928\n",
      "no normalization weights found for file /Users/lukasadamek/cernbox/EOPTuples/haddedTogether/EOPTuples_v02/user.luadamek.luadamek.data17_13TeV.00341294.Sept26_EOPTree_hist\n",
      "applying selection to variable trkPt\n",
      "Reading files for channel PythiaJetJet\n",
      "550457344\n",
      "Evaluating weights\n",
      "getting the xsection weight\n",
      "550457344\n",
      "550457344\n",
      "550457344\n",
      "Found renormalization weights for file /Users/lukasadamek/cernbox/EOPTuples/haddedTogether/EOPTuples_v02/user.luadamek.mc16_13TeV.361020.jetjet.Sept21_2018_EOP_noTrigger_hist\n",
      "applying selection to variable trkPt\n",
      "570658816\n",
      "Evaluating weights\n",
      "getting the xsection weight\n",
      "570658816\n",
      "570658816\n",
      "570658816\n",
      "Found renormalization weights for file /Users/lukasadamek/cernbox/EOPTuples/haddedTogether/EOPTuples_v02/user.luadamek.mc16_13TeV.361021.jetjet.Sept21_2018_EOP_noTrigger_hist\n",
      "applying selection to variable trkPt\n",
      "569683968\n",
      "Evaluating weights\n",
      "getting the xsection weight\n",
      "569683968\n",
      "569683968\n",
      "569683968\n",
      "Found renormalization weights for file /Users/lukasadamek/cernbox/EOPTuples/haddedTogether/EOPTuples_v02/user.luadamek.mc16_13TeV.361022.jetjet.Sept21_2018_EOP_noTrigger_hist\n",
      "applying selection to variable trkPt\n"
     ]
    },
    {
     "name": "stderr",
     "output_type": "stream",
     "text": [
      "Warning in <TROOT::Append>: Replacing existing TH1: HistogramtrkPt2 (Potential memory leak).\n"
     ]
    },
    {
     "data": {
      "image/png": "[encoded data removed]",
      "text/plain": [
       "<IPython.core.display.Image object>"
      ]
     },
     "metadata": {},
     "output_type": "display_data"
    }
   ],
   "source": [
    "trkPtHistZoom2 = plots.GetHistograms(calc_trkPt,\\\n",
    "                                     list_selections = [],\\\n",
    "                                     bins = 100, \\\n",
    "                                     range_low = 0.5, \\\n",
    "                                     range_high = 1, \\\n",
    "                                     xlabel =\"Track P_{T} [GeV]\", \\\n",
    "                                     ylabel = \"Number of Tracks\")\n",
    "description = \"Inclusive Selection\"\n",
    "scale_factor = 50\n",
    "trkPtHistZoom2Canvas = DrawDataVsMC(trkPtHistZoom2, \\\n",
    "                                    plots.channelLabels, \\\n",
    "                                    MCKey='PythiaJetJet', \\\n",
    "                                    DataKey='MinBiasData',\\\n",
    "                                    ratio_min = 0.8,\\\n",
    "                                    ratio_max = 1.2,\\\n",
    "                                    extra_description = description,\\\n",
    "                                    scale_factor = scale_factor)\n",
    "trkPtHistZoom2Canvas.Draw()"
   ]
  },
  {
   "cell_type": "code",
   "execution_count": 9,
   "metadata": {},
   "outputs": [
    {
     "name": "stdout",
     "output_type": "stream",
     "text": [
      "Reading files for channel MinBiasData\n",
      "536768512\n",
      "Evaluating weights\n",
      "536768512\n",
      "536768512\n",
      "536768512\n",
      "no normalization weights found for file /Users/lukasadamek/cernbox/EOPTuples/haddedTogether/EOPTuples_v02/user.luadamek.luadamek.data17_13TeV.00341294.Sept26_EOPTree_hist\n",
      "applying selection to variable trkPt\n",
      "Reading files for channel PythiaJetJet\n",
      "551542784\n",
      "Evaluating weights\n",
      "getting the xsection weight\n",
      "551542784\n",
      "551542784\n",
      "551542784\n",
      "Found renormalization weights for file /Users/lukasadamek/cernbox/EOPTuples/haddedTogether/EOPTuples_v02/user.luadamek.mc16_13TeV.361020.jetjet.Sept21_2018_EOP_noTrigger_hist\n",
      "applying selection to variable trkPt\n",
      "571998208\n",
      "Evaluating weights\n",
      "getting the xsection weight\n",
      "571998208\n",
      "571998208\n",
      "571998208\n",
      "Found renormalization weights for file /Users/lukasadamek/cernbox/EOPTuples/haddedTogether/EOPTuples_v02/user.luadamek.mc16_13TeV.361021.jetjet.Sept21_2018_EOP_noTrigger_hist\n",
      "applying selection to variable trkPt\n",
      "571252736\n",
      "Evaluating weights\n",
      "getting the xsection weight\n",
      "571252736\n",
      "571252736\n",
      "571252736\n",
      "Found renormalization weights for file /Users/lukasadamek/cernbox/EOPTuples/haddedTogether/EOPTuples_v02/user.luadamek.mc16_13TeV.361022.jetjet.Sept21_2018_EOP_noTrigger_hist\n",
      "applying selection to variable trkPt\n"
     ]
    },
    {
     "name": "stderr",
     "output_type": "stream",
     "text": [
      "Warning in <TROOT::Append>: Replacing existing TH1: HistogramtrkPt3 (Potential memory leak).\n"
     ]
    },
    {
     "data": {
      "image/png": "[encoded data removed]",
      "text/plain": [
       "<IPython.core.display.Image object>"
      ]
     },
     "metadata": {},
     "output_type": "display_data"
    }
   ],
   "source": [
    "description = \"Inclusive Selection\"\n",
    "scale_factor = 10\n",
    "trkPtHist = plots.GetHistograms(calc_trkPt,\\\n",
    "                                list_selections = [],\\\n",
    "                                bins = 500, \\\n",
    "                                range_low = 0.5, \\\n",
    "                                range_high = 25, \\\n",
    "                                xlabel =\"Track P_{T} [GeV]\",\\\n",
    "                                ylabel = \"Number of Tracks\",\\\n",
    "                                )\n",
    "\n",
    "DataVsMC = DrawDataVsMC(trkPtHist, \\\n",
    "                        plots.channelLabels, \\\n",
    "                        MCKey='PythiaJetJet', \\\n",
    "                        DataKey='MinBiasData',\\\n",
    "                        extra_description = description,\\\n",
    "                        scale_factor = scale_factor)\n",
    "DataVsMC.Draw()"
   ]
  },
  {
   "cell_type": "code",
   "execution_count": 10,
   "metadata": {},
   "outputs": [
    {
     "name": "stdout",
     "output_type": "stream",
     "text": [
      "Reading files for channel MinBiasData\n",
      "539336704\n",
      "Evaluating weights\n",
      "539340800\n",
      "539340800\n",
      "539340800\n",
      "no normalization weights found for file /Users/lukasadamek/cernbox/EOPTuples/haddedTogether/EOPTuples_v02/user.luadamek.luadamek.data17_13TeV.00341294.Sept26_EOPTree_hist\n",
      "applying selection to variable trkEtaID\n",
      "Reading files for channel PythiaJetJet\n",
      "554082304\n",
      "Evaluating weights\n",
      "getting the xsection weight\n",
      "554082304\n",
      "554082304\n",
      "554082304\n",
      "Found renormalization weights for file /Users/lukasadamek/cernbox/EOPTuples/haddedTogether/EOPTuples_v02/user.luadamek.mc16_13TeV.361020.jetjet.Sept21_2018_EOP_noTrigger_hist\n",
      "applying selection to variable trkEtaID\n",
      "574394368\n",
      "Evaluating weights\n",
      "getting the xsection weight\n",
      "574394368\n",
      "574394368\n",
      "574394368\n",
      "Found renormalization weights for file /Users/lukasadamek/cernbox/EOPTuples/haddedTogether/EOPTuples_v02/user.luadamek.mc16_13TeV.361021.jetjet.Sept21_2018_EOP_noTrigger_hist\n",
      "applying selection to variable trkEtaID\n",
      "573145088\n",
      "Evaluating weights\n",
      "getting the xsection weight\n",
      "573145088\n",
      "573145088\n",
      "573145088\n",
      "Found renormalization weights for file /Users/lukasadamek/cernbox/EOPTuples/haddedTogether/EOPTuples_v02/user.luadamek.mc16_13TeV.361022.jetjet.Sept21_2018_EOP_noTrigger_hist\n",
      "applying selection to variable trkEtaID\n"
     ]
    },
    {
     "name": "stderr",
     "output_type": "stream",
     "text": [
      "Warning in <TROOT::Append>: Replacing existing TH1: HistogramtrkEtaID4 (Potential memory leak).\n"
     ]
    },
    {
     "data": {
      "image/png": "[encoded data removed]",
      "text/plain": [
       "<IPython.core.display.Image object>"
      ]
     },
     "metadata": {},
     "output_type": "display_data"
    }
   ],
   "source": [
    "trkEtaIDHist = plots.GetHistograms(calc_trkEtaID, \\\n",
    "                                   list_selections = [],\\\n",
    "                                   bins = 100, \\\n",
    "                                   range_low = -5, \\\n",
    "                                   range_high = +5, \\\n",
    "                                   xlabel =\"Track #eta ID\", \\\n",
    "                                   ylabel = \"Number of Tracks\")\n",
    "description = \"Inclusive Selection\"\n",
    "DataVsMCHistCanvas = DrawDataVsMC(trkEtaIDHist, \\\n",
    "                                  plots.channelLabels, \\\n",
    "                                  MCKey='PythiaJetJet', \\\n",
    "                                  DataKey='MinBiasData',\\\n",
    "                                  ratio_min = 0.9,\\\n",
    "                                  ratio_max = 1.1,\\\n",
    "                                  extra_description = description)\n",
    "DataVsMCHistCanvas.Draw()"
   ]
  },
  {
   "cell_type": "code",
   "execution_count": null,
   "metadata": {
    "scrolled": true
   },
   "outputs": [
    {
     "name": "stdout",
     "output_type": "stream",
     "text": [
      "['trk_etaID', 'trk_p', 'trkWeight']\n",
      "Reading from file /Users/lukasadamek/cernbox/EOPTuples/haddedTogether/EOPTuples_v02/user.luadamek.luadamek.data17_13TeV.00341294.Sept26_EOPTree_hist\n",
      "Got the data for parition (0, 16351495L)\n",
      "549224448\n",
      "Evaluating weights\n",
      "549224448\n",
      "calculating variables for trkEtaID\n",
      "calculating variables for trkP\n",
      "549224448\n",
      "549224448\n",
      "no normalization weights found for file /Users/lukasadamek/cernbox/EOPTuples/haddedTogether/EOPTuples_v02/user.luadamek.luadamek.data17_13TeV.00341294.Sept26_EOPTree_hist\n",
      "\n",
      "\n",
      "\n",
      "\n",
      "\n",
      "===============\n",
      "Preselections are being applied\n",
      "Pre-selection event count1116217\n",
      "post preselection event count1116217\n",
      "applying selection to variable trkEtaID\n",
      "applying selection to variable trkP\n",
      "Got the variable and weights\n",
      "Set up the number of selected entries\n",
      "concatenating the arrays\n",
      "array 1\n",
      "array 2\n",
      "Set up a 2-d array to fill into the histogram\n",
      "[[ 2.13223301  5.11086137]\n",
      " [ 2.2580985   3.98596438]\n",
      " [ 1.78324127  1.74951867]\n",
      " ...\n",
      " [ 1.62216988  1.4820407 ]\n",
      " [ 2.43071179  3.4593201 ]\n",
      " [-2.32782098  2.86919242]]\n",
      "[1. 1. 1. ... 1. 1. 1.]\n",
      "Filling Variable trkP\n",
      "Filling Histogram\n",
      "Finished filling histogram\n",
      "['trk_etaID', 'trk_p', 'trkWeight']\n",
      "Reading from file /Users/lukasadamek/cernbox/EOPTuples/haddedTogether/EOPTuples_v02/user.luadamek.mc16_13TeV.361020.jetjet.Sept21_2018_EOP_noTrigger_hist\n",
      "Got the data for parition (0, 14673586L)\n",
      "571080704\n",
      "Evaluating weights\n",
      "getting the xsection weight\n",
      "X Section Weight Set To 76.49871\n",
      "571080704\n",
      "calculating variables for trkEtaID\n",
      "calculating variables for trkP\n",
      "571080704\n",
      "571080704\n",
      "Found renormalization weights for file /Users/lukasadamek/cernbox/EOPTuples/haddedTogether/EOPTuples_v02/user.luadamek.mc16_13TeV.361020.jetjet.Sept21_2018_EOP_noTrigger_hist\n",
      "\n",
      "\n",
      "\n",
      "\n",
      "\n",
      "===============\n",
      "Preselections are being applied\n",
      "Pre-selection event count907505\n",
      "post preselection event count907505\n",
      "applying selection to variable trkEtaID\n",
      "applying selection to variable trkP\n",
      "Got the variable and weights\n",
      "Set up the number of selected entries\n",
      "concatenating the arrays\n",
      "array 1\n",
      "array 2\n",
      "Set up a 2-d array to fill into the histogram\n",
      "[[-2.16571776  4.45710739]\n",
      " [-2.4615241   4.61917165]\n",
      " [-0.82212064  1.30130364]\n",
      " ...\n",
      " [-1.66611264  1.57669372]\n",
      " [ 1.57768307  1.57081333]\n",
      " [ 2.32707651  4.87287747]]\n",
      "[1.188336 1.188336 1.188336 ... 1.188336 1.188336 1.188336]\n",
      "Filling Variable trkP\n",
      "Filling Histogram\n",
      "Finished filling histogram\n",
      "['trk_etaID', 'trk_p', 'trkWeight']\n",
      "Reading from file /Users/lukasadamek/cernbox/EOPTuples/haddedTogether/EOPTuples_v02/user.luadamek.mc16_13TeV.361021.jetjet.Sept21_2018_EOP_noTrigger_hist\n",
      "Got the data for parition (0, 19698792L)\n",
      "600641536\n",
      "Evaluating weights\n",
      "getting the xsection weight\n",
      "X Section Weight Set To 0.0526535406\n",
      "600641536\n",
      "calculating variables for trkEtaID\n",
      "calculating variables for trkP\n",
      "600641536\n",
      "600641536\n",
      "Found renormalization weights for file /Users/lukasadamek/cernbox/EOPTuples/haddedTogether/EOPTuples_v02/user.luadamek.mc16_13TeV.361021.jetjet.Sept21_2018_EOP_noTrigger_hist\n",
      "\n",
      "\n",
      "\n",
      "\n",
      "\n",
      "===============\n",
      "Preselections are being applied\n",
      "Pre-selection event count1230221\n",
      "post preselection event count1230221\n",
      "applying selection to variable trkEtaID\n",
      "applying selection to variable trkP\n",
      "Got the variable and weights\n",
      "Set up the number of selected entries\n",
      "concatenating the arrays\n",
      "array 1\n",
      "array 2\n",
      "Set up a 2-d array to fill into the histogram\n",
      "[[ 1.4413311   2.6035083 ]\n",
      " [-1.59136672  2.52158562]\n",
      " [ 0.53381986  1.29314263]\n",
      " ...\n",
      " [ 1.39256512  2.469915  ]\n",
      " [-1.66868738  2.35913054]\n",
      " [ 1.22944519  3.47053656]]\n",
      "[0.00591689 0.00591689 0.00591689 ... 0.00193223 0.00193223 0.00193223]\n",
      "Filling Variable trkP\n",
      "Filling Histogram\n",
      "Finished filling histogram\n",
      "['trk_etaID', 'trk_p', 'trkWeight']\n",
      "Reading from file /Users/lukasadamek/cernbox/EOPTuples/haddedTogether/EOPTuples_v02/user.luadamek.mc16_13TeV.361022.jetjet.Sept21_2018_EOP_noTrigger_hist\n",
      "Got the data for parition (0, 18473120L)\n",
      "621240320\n",
      "Evaluating weights\n",
      "getting the xsection weight\n",
      "X Section Weight Set To 0.000814062498498\n",
      "621240320\n",
      "calculating variables for trkEtaID\n",
      "calculating variables for trkP\n",
      "621240320\n",
      "621240320\n",
      "Found renormalization weights for file /Users/lukasadamek/cernbox/EOPTuples/haddedTogether/EOPTuples_v02/user.luadamek.mc16_13TeV.361022.jetjet.Sept21_2018_EOP_noTrigger_hist\n",
      "\n",
      "\n",
      "\n",
      "\n",
      "\n",
      "===============\n",
      "Preselections are being applied\n",
      "Pre-selection event count1152154\n",
      "post preselection event count1152154\n",
      "applying selection to variable trkEtaID\n",
      "applying selection to variable trkP\n",
      "Got the variable and weights\n",
      "Set up the number of selected entries\n"
     ]
    }
   ],
   "source": [
    "plots.verbose=True\n",
    "TwoDtrkPvstrkEta = plots.Get2DHistograms(calc_trkEtaID,\\\n",
    "                                       calc_trkP,\\\n",
    "                                       list_selections=[],\\\n",
    "                                       bins_x=50,\\\n",
    "                                       range_low_x=-2.4,\\\n",
    "                                       range_high_x=+2.4,\\\n",
    "                                       xlabel=\"Track #eta ID\",\\\n",
    "                                       bins_y=50,\\\n",
    "                                       range_low_y=0.5,\\\n",
    "                                       range_high_y=10,\\\n",
    "                                       ylabel=\"Track P [GeV]\",\\\n",
    "                                       normalize=False)\n",
    "print(\"Drawing Canvas\")\n",
    "plotCanvas1=ROOT.TCanvas(\"asdasd\",\"asdasfsddf\", 1300, 800)\n",
    "print(\"Drawing histogram on canvas\")\n",
    "TwoDtrkPvstrkEta[\"PythiaJetJet\"].Draw()\n",
    "plotCanvas1.Draw()"
   ]
  },
  {
   "cell_type": "code",
   "execution_count": null,
   "metadata": {},
   "outputs": [],
   "source": [
    "plotCanvas2=ROOT.TCanvas(\"asdaasdsd\",\"asdasfsddasdasf\", 1300, 800)\n",
    "TwoDtrkPvstrkEta[\"MinBiasData\"].Draw()"
   ]
  },
  {
   "cell_type": "code",
   "execution_count": null,
   "metadata": {},
   "outputs": [],
   "source": [
    "trkEtaECALHist = plots.GetHistograms(calc_trkEtaECAL, \\\n",
    "                                     list_selections = [], \\\n",
    "                                     bins = 100, \\\n",
    "                                     range_low = -5, \\\n",
    "                                     range_high = +5,\\\n",
    "                                     xlabel =\"Track #eta EM Layer 2\", \\\n",
    "                                     ylabel = \"Number of Tracks\",\\\n",
    "                                    )\n",
    "description = \"Inclusive Selection\"\n",
    "DataVsMCHistECALCanvas = DrawDataVsMC(trkEtaECALHist, \\\n",
    "                                      plots.channelLabels, \\\n",
    "                                      MCKey='PythiaJetJet',\\\n",
    "                                      DataKey='MinBiasData',\\\n",
    "                                      ratio_min = 0.5,\\\n",
    "                                      ratio_max = 1.5,\\\n",
    "                                      extra_description = description)\n",
    "DataVsMCHistECALCanvas.Draw()"
   ]
  },
  {
   "cell_type": "code",
   "execution_count": null,
   "metadata": {},
   "outputs": [],
   "source": [
    "plots.UseVariableAndHistogramToNormalize(calc_trkPt,\\\n",
    "                                         trkPtHist, \\\n",
    "                                         \"PythiaJetJet\", \\\n",
    "                                         \"MinBiasData\",\\\n",
    "                                        )"
   ]
  },
  {
   "cell_type": "code",
   "execution_count": null,
   "metadata": {
    "scrolled": true
   },
   "outputs": [],
   "source": [
    "trkNearestDRHist = plots.GetHistograms(calc_trkNearestNeighbourEM2,\\\n",
    "                                list_selections = [],\\\n",
    "                                bins = 25, \\\n",
    "                                range_low = 0.0, \\\n",
    "                                range_high = 5, \\\n",
    "                                xlabel =\"dR to Nearest Track\",\\\n",
    "                                ylabel = \"Number of Tracks\",\\\n",
    "                                )\n",
    "description = [\"Inclusive Selection\" ,\"P_{T} Reweighted\"]\n",
    "DataVsMC = DrawDataVsMC(trkNearestDRHist,\\\n",
    "                        plots.channelLabels,\\\n",
    "                        MCKey='PythiaJetJet',\\\n",
    "                        DataKey='MinBiasData',\\\n",
    "                        ratio_min = 0.2,\\\n",
    "                        ratio_max = 1.8,\\\n",
    "                        extra_description = description)\n",
    "DataVsMC.Draw()"
   ]
  },
  {
   "cell_type": "code",
   "execution_count": null,
   "metadata": {},
   "outputs": [],
   "source": [
    "trkPtReweightedHist = plots.GetHistograms(calc_trkPt,\\\n",
    "                                list_selections = [],\\\n",
    "                                bins = 200, \\\n",
    "                                range_low = 0.5, \\\n",
    "                                range_high = 20, \\\n",
    "                                xlabel =\"Track P_{T} [GeV]\",\\\n",
    "                                ylabel = \"Number of Tracks\",\\\n",
    "                                )\n",
    "description = [\"Inclusive Selection\" , \"P_{T} Reweighted\"]\n",
    "DataVsMC = DrawDataVsMC(trkPtReweightedHist, \\\n",
    "                        plots.channelLabels,\\\n",
    "                        MCKey='PythiaJetJet', \\\n",
    "                        DataKey='MinBiasData',\\\n",
    "                        extra_description = description,\\\n",
    "                       )\n",
    "DataVsMC.Draw()"
   ]
  },
  {
   "cell_type": "code",
   "execution_count": null,
   "metadata": {},
   "outputs": [],
   "source": [
    "selections = []\n",
    "trkEOPHist = plots.GetHistograms(calc_EOP, \\\n",
    "                                 list_selections = selections, \\\n",
    "                                 bins = 50, \\\n",
    "                                 range_low = -1, \\\n",
    "                                 range_high = 5, \\\n",
    "                                 xlabel =\"E/p\", \\\n",
    "                                 ylabel = \"Number of Tracks\",\\\n",
    "                                 )\n",
    "description  = [\"Inclusive Selection\",\\\n",
    "                \"P_{T} Reweighted\"]\n",
    "DataVsMCEOP = DrawDataVsMC(trkEOPHist, \\\n",
    "                           plots.channelLabels, \\\n",
    "                           MCKey='PythiaJetJet', \\\n",
    "                           DataKey='MinBiasData', \\\n",
    "                           ratio_min = 0.6,\\\n",
    "                           ratio_max = 1.4,\\\n",
    "                           extra_description = description,\\\n",
    "                           )\n",
    "DataVsMCEOP.Draw()"
   ]
  },
  {
   "cell_type": "code",
   "execution_count": null,
   "metadata": {},
   "outputs": [],
   "source": []
  },
  {
   "cell_type": "code",
   "execution_count": null,
   "metadata": {},
   "outputs": [],
   "source": [
    "selections = [sel_PGreater1, sel_ECALEta0_6]\n",
    "trkEOPHistPGreater1 = plots.GetHistograms(calc_EOP, \\\n",
    "                                          list_selections = selections, \\\n",
    "                                          bins = 50, \\\n",
    "                                          range_low = -1, \\\n",
    "                                          range_high = 5, \\\n",
    "                                          xlabel =\"E/p\", \\\n",
    "                                          ylabel = \"Number of Tracks\")\n",
    "description = [\"P[GeV]>1\", \\\n",
    "               \"|#eta_{EM2}|<0.6\", \\\n",
    "               \"P_{T} Reweighted\"]\n",
    "DataVsMCEOP = DrawDataVsMC(trkEOPHistPGreater1,\\\n",
    "                           plots.channelLabels, \\\n",
    "                           MCKey='PythiaJetJet',\\\n",
    "                           DataKey='MinBiasData',\\\n",
    "                           extra_description = description)\n",
    "DataVsMCEOP.Draw()"
   ]
  },
  {
   "cell_type": "code",
   "execution_count": null,
   "metadata": {},
   "outputs": [],
   "source": [
    "selections = [sel_PGreater1_5, sel_IDEta0_6]\n",
    "trkEOPHistPGreater1_5 = plots.GetHistograms(calc_EOP,\\\n",
    "                                            list_selections = selections, \\\n",
    "                                            bins = 50, \\\n",
    "                                            range_low = -1, \\\n",
    "                                            range_high = 5, \\\n",
    "                                            xlabel =\"E/p\", \\\n",
    "                                            ylabel = \"Number of Tracks\")\n",
    "description = [\"P[GeV]>1.5\",\\\n",
    "               \"|#eta_{ID}|<0.6\",\\\n",
    "               \"P_{T} Reweighted\"]\n",
    "DataVsMCEOP = DrawDataVsMC(trkEOPHistPGreater1, \\\n",
    "                           plots.channelLabels, \\\n",
    "                           MCKey='PythiaJetJet',\\\n",
    "                           DataKey='MinBiasData',\\\n",
    "                           extra_description = description)\n",
    "DataVsMCEOP.Draw()"
   ]
  },
  {
   "cell_type": "code",
   "execution_count": null,
   "metadata": {
    "scrolled": true
   },
   "outputs": [],
   "source": [
    "selections = [sel_PGreater2, sel_IDEta0_6]\n",
    "trkEOPHistPGreater2 = plots.GetHistograms(calc_EOP,\\\n",
    "                                          list_selections = selections,\\\n",
    "                                          bins = 50, \\\n",
    "                                          range_low = -1,\\\n",
    "                                          range_high = 5,\\\n",
    "                                          xlabel =\"E/p\", \\\n",
    "                                          ylabel = \"Number of Tracks\",\\\n",
    "                                          )\n",
    "description = [\"P[GeV]>2\", \\\n",
    "               \"|#eta_{ID}|<0.6\",\\\n",
    "               \"P_{T} Reweighted\"]\n",
    "DataVsMCEOP = DrawDataVsMC(trkEOPHistPGreater2, \\\n",
    "                           plots.channelLabels, \\\n",
    "                           MCKey='PythiaJetJet', \\\n",
    "                           DataKey='MinBiasData',\\\n",
    "                           extra_description = description)\n",
    "DataVsMCEOP.Draw()"
   ]
  },
  {
   "cell_type": "markdown",
   "metadata": {},
   "source": [
    "Now Lets try to reproduce some of the Run 1 paper results. We'll go through the figures one-by-one"
   ]
  },
  {
   "cell_type": "code",
   "execution_count": null,
   "metadata": {},
   "outputs": [],
   "source": [
    "from selections.selections import sel_IDEta19_23, sel_IDEta0_6, sel_PBetween12_18, sel_PBetween22_28, sel_PBetween28_36"
   ]
  },
  {
   "cell_type": "markdown",
   "metadata": {},
   "source": [
    "This is figure 2a and 2d in the paper:"
   ]
  },
  {
   "cell_type": "code",
   "execution_count": null,
   "metadata": {},
   "outputs": [],
   "source": [
    "selections = [sel_PBetween12_18, sel_IDEta0_6]\n",
    "trkEOPHistFig2a = plots.GetHistograms(calc_EOP,\\\n",
    "                                          list_selections = selections,\\\n",
    "                                          bins = 50, \\\n",
    "                                          range_low = -1,\\\n",
    "                                          range_high = 5,\\\n",
    "                                          xlabel =\"E/p\", \\\n",
    "                                          ylabel = \"Number of Tracks\",\\\n",
    "                                          )\n",
    "description = [\"1.2<P[GeV]<1.8\",\\\n",
    "               \"|#eta_{ID}|<0.6\",\\\n",
    "               \"P_{T} Reweighted\"]\n",
    "DataVsMCEOP = DrawDataVsMC(trkEOPHistFig2a, \\\n",
    "                           plots.channelLabels, \\\n",
    "                           MCKey='PythiaJetJet', \\\n",
    "                           DataKey='MinBiasData',\\\n",
    "                           extra_description = description)\n",
    "DataVsMCEOP.Draw()"
   ]
  },
  {
   "cell_type": "markdown",
   "metadata": {},
   "source": [
    "This is figure 2b in the paper:"
   ]
  },
  {
   "cell_type": "code",
   "execution_count": null,
   "metadata": {},
   "outputs": [],
   "source": [
    "from selections.selections import sel_PBetween12_18\n",
    "selections = [sel_PBetween12_18, sel_IDEta0_6]\n",
    "trkEOPHistFig2b = plots.GetHistograms(calc_EOP,\\\n",
    "                                          list_selections = selections,\\\n",
    "                                          bins = 50, \\\n",
    "                                          range_low = -1,\\\n",
    "                                          range_high = 5,\\\n",
    "                                          xlabel =\"E/p\", \\\n",
    "                                          ylabel = \"Number of Tracks\",\\\n",
    "                                          )\n",
    "description = [\"2.2<P[GeV]<2.8\", \\\n",
    "               \"|#eta_{ID}|<0.6\",\\\n",
    "               \"P_{T} Reweighted\"]\n",
    "DataVsMCEOP = DrawDataVsMC(trkEOPHistFig2b, \\\n",
    "                           plots.channelLabels, \\\n",
    "                           MCKey='PythiaJetJet', \\\n",
    "                           DataKey='MinBiasData',\\\n",
    "                           extra_description = description)\n",
    "DataVsMCEOP.Draw()"
   ]
  },
  {
   "cell_type": "markdown",
   "metadata": {},
   "source": [
    "This is figure 2c in the paper:"
   ]
  },
  {
   "cell_type": "code",
   "execution_count": null,
   "metadata": {},
   "outputs": [],
   "source": [
    "selections = [sel_PBetween28_36, sel_IDEta19_23]\n",
    "trkEOPHistFig2c = plots.GetHistograms(calc_EOP,\\\n",
    "                                          list_selections = selections,\\\n",
    "                                          bins = 50, \\\n",
    "                                          range_low = -1,\\\n",
    "                                          range_high = 5,\\\n",
    "                                          xlabel =\"E/p\", \\\n",
    "                                          ylabel = \"Number of Tracks\",\\\n",
    "                                          )\n",
    "description = [\"2.8<P[GeV]<3.6\", \\\n",
    "               \"1.9<|#eta_{ID}|<2.3\",\\\n",
    "               \"P_{T} Reweighted\"]\n",
    "DataVsMCEOP = DrawDataVsMC(trkEOPHistFig2c, \\\n",
    "                           plots.channelLabels, \\\n",
    "                           MCKey='PythiaJetJet', \\\n",
    "                           DataKey='MinBiasData',\\\n",
    "                           extra_description = description)\n",
    "DataVsMCEOP.Draw()"
   ]
  },
  {
   "cell_type": "markdown",
   "metadata": {},
   "source": [
    "This is figure 3a in the paper:"
   ]
  },
  {
   "cell_type": "code",
   "execution_count": null,
   "metadata": {
    "scrolled": true
   },
   "outputs": [],
   "source": [
    "selections = []\n",
    "binMax = 10.05\n",
    "binLow = 0.5\n",
    "nBins = 15\n",
    "base = (binMax/binLow) ** (1./float(nBins))\n",
    "bins = []\n",
    "for i in range(0, nBins + 1):\n",
    "    bins.append(0.5 * (base) ** i )\n",
    "trkMultiplicity = plots.GetHistograms(calc_trkP,\\\n",
    "                                      list_selections = selections,\\\n",
    "                                      bins = bins, \\\n",
    "                                      xlabel =\"Track P [GeV]\", \\\n",
    "                                      ylabel = \"Number of Tracks\",\\\n",
    "                                      )\n",
    "from selections.selections import sel_ELessEqual0\n",
    "selections = [sel_ELessEqual0]\n",
    "trkMultiplicity_ELessZero = plots.GetHistograms(calc_trkP,\\\n",
    "                                      list_selections = selections,\\\n",
    "                                      bins = bins, \\\n",
    "                                      xlabel =\"Track P [GeV]\", \\\n",
    "                                      ylabel = \"N(E<=0)/N\",\\\n",
    "                                      )\n",
    "ratio_histogram = DivideHistograms(trkMultiplicity_ELessZero, trkMultiplicity)\n",
    "description = [\"Inclusive Selection\",\\\n",
    "               \"Track P_{T} Reweighted\"]\n",
    "scale_factor = 5.0\n",
    "DataVsMCTrackLess0 = DrawDataVsMC(ratio_histogram, \\\n",
    "                           plots.channelLabels, \\\n",
    "                           MCKey='PythiaJetJet', \\\n",
    "                           DataKey='MinBiasData',\\\n",
    "                           extra_description = description,\\\n",
    "                           scale_factor = scale_factor,\\\n",
    "                           ratio_min = 0.8,\\\n",
    "                           ratio_max = 1.2,\\\n",
    "                           doLogx = True,\n",
    "                           doLogy = False,\n",
    "                           xTicksNumber = 414)\n",
    "DataVsMCTrackLess0.Draw()"
   ]
  },
  {
   "cell_type": "code",
   "execution_count": null,
   "metadata": {},
   "outputs": [],
   "source": []
  },
  {
   "cell_type": "raw",
   "metadata": {},
   "source": [
    "This is figure 3b of the paper"
   ]
  },
  {
   "cell_type": "code",
   "execution_count": null,
   "metadata": {},
   "outputs": [],
   "source": [
    "bins = [-2.3, -1.8, -1.5, -1.4, -1.1, -0.6, 0.0, 0.6, 1.1, 1.4, 1.5, 1.8, 2.3]\n",
    "selections = []\n",
    "trkMultiplicity_Eta = plots.GetHistograms(calc_trkEtaID,\\\n",
    "                                      list_selections = selections,\\\n",
    "                                      bins = bins, \\\n",
    "                                      xlabel =\"Track |#eta|\", \\\n",
    "                                      ylabel = \"Number of Tracks\",\\\n",
    "                                      )\n",
    "from selections.selections import sel_ELessEqual0\n",
    "selections = [sel_ELessEqual0]\n",
    "trkMultiplicity_Eta_Zero = plots.GetHistograms(calc_trkEtaID,\\\n",
    "                                      list_selections = selections,\\\n",
    "                                      bins = bins, \\\n",
    "                                      xlabel =\"Track |#eta|\", \\\n",
    "                                      ylabel = \"N(E<=0)/N\",\\\n",
    "                                      )\n",
    "ratio_histogram = DivideHistograms(trkMultiplicity_Eta_Zero, trkMultiplicity_Eta)\n",
    "description = [\"Inclusive Selection\",\\\n",
    "               \"Track P_{T} Reweighted\"]\n",
    "scale_factor = 5.0\n",
    "DataVsMCTrackLess0 = DrawDataVsMC(ratio_histogram, \\\n",
    "                           plots.channelLabels, \\\n",
    "                           MCKey='PythiaJetJet', \\\n",
    "                           DataKey='MinBiasData',\\\n",
    "                           extra_description = description,\\\n",
    "                           scale_factor = scale_factor,\\\n",
    "                           ratio_min = 0.9,\\\n",
    "                           ratio_max = 1.1,\\\n",
    "                           doLogx = False,\n",
    "                           doLogy = False)\n",
    "DataVsMCTrackLess0.Draw()"
   ]
  },
  {
   "cell_type": "code",
   "execution_count": null,
   "metadata": {},
   "outputs": [],
   "source": [
    "bins = [0.0, 0.6, 1.1, 1.4, 1.5, 1.8, 2.3]\n",
    "selections = []\n",
    "from variables.variables import calc_trkEta_ABS\n",
    "trkMultiplicity_Eta = plots.GetHistograms(calc_trkEta_ABS,\\\n",
    "                                      list_selections = selections,\\\n",
    "                                      bins = bins, \\\n",
    "                                      xlabel =\"Track |#eta|\", \\\n",
    "                                      ylabel = \"Number of Tracks\",\\\n",
    "                                      )\n",
    "from selections.selections import sel_ELessEqual0\n",
    "selections = [sel_ELessEqual0]\n",
    "trkMultiplicity_Eta_Zero = plots.GetHistograms(calc_trkEta_ABS,\\\n",
    "                                      list_selections = selections,\\\n",
    "                                      bins = bins, \\\n",
    "                                      xlabel =\"Track |#eta|\", \\\n",
    "                                      ylabel = \"N(E<=0)/N\",\\\n",
    "                                      )\n",
    "ratio_histogram = DivideHistograms(trkMultiplicity_Eta_Zero, trkMultiplicity_Eta)\n",
    "description = [\"Inclusive Selection\",\\\n",
    "               \"Track P_{T} Reweighted\"]\n",
    "scale_factor = 5.0\n",
    "DataVsMCTrackLess0 = DrawDataVsMC(ratio_histogram, \\\n",
    "                           plots.channelLabels, \\\n",
    "                           MCKey='PythiaJetJet', \\\n",
    "                           DataKey='MinBiasData',\\\n",
    "                           extra_description = description,\\\n",
    "                           scale_factor = scale_factor,\\\n",
    "                           ratio_min = 0.9,\\\n",
    "                           ratio_max = 1.1,\\\n",
    "                           doLogx = False,\n",
    "                           doLogy = False)\n",
    "DataVsMCTrackLess0.Draw()"
   ]
  },
  {
   "cell_type": "code",
   "execution_count": null,
   "metadata": {},
   "outputs": [],
   "source": [
    "bins = [0.0, 0.6, 1.1, 1.4, 1.5, 1.8, 2.3]\n",
    "selections = []\n",
    "from variables.variables import calc_trkEta_ABS\n",
    "trkMultiplicity_Eta = plots.GetHistograms(calc_trkEta_ABS,\\\n",
    "                                      list_selections = selections,\\\n",
    "                                      bins = bins, \\\n",
    "                                      xlabel =\"Track |#eta|\", \\\n",
    "                                      ylabel = \"Normalized\",\\\n",
    "                                      normalize = True,\\\n",
    "                                      )\n",
    "from selections.selections import sel_ELessEqual0\n",
    "selections = [sel_ELessEqual0]\n",
    "trkMultiplicity_Eta_Zero = plots.GetHistograms(calc_trkEta_ABS,\\\n",
    "                                      list_selections = selections,\\\n",
    "                                      bins = bins, \\\n",
    "                                      xlabel =\"Track |#eta|\", \\\n",
    "                                      ylabel = \"Normalized N(E<=0)/N\",\\\n",
    "                                      normalize = True,\\\n",
    "                                      )\n",
    "ratio_histogram = DivideHistograms(trkMultiplicity_Eta_Zero, trkMultiplicity_Eta)\n",
    "description = [\"Inclusive Selection\",\\\n",
    "               \"Track P_{T} Reweighted\"]\n",
    "scale_factor = 5.0\n",
    "DataVsMCTrackLess0 = DrawDataVsMC(ratio_histogram, \\\n",
    "                           plots.channelLabels, \\\n",
    "                           MCKey='PythiaJetJet', \\\n",
    "                           DataKey='MinBiasData',\\\n",
    "                           extra_description = description,\\\n",
    "                           scale_factor = scale_factor,\\\n",
    "                           ratio_min = 0.9,\\\n",
    "                           ratio_max = 1.1,\\\n",
    "                           doLogx = False,\n",
    "                           doLogy = False)\n",
    "DataVsMCTrackLess0.Draw()"
   ]
  },
  {
   "cell_type": "code",
   "execution_count": null,
   "metadata": {},
   "outputs": [],
   "source": [
    "\n",
    "from variables.variables import calc_trkEta_ABS\n",
    "    \n",
    "base_description = [\"Track P_{T} Reweighted\"]\n",
    "\n",
    "\n",
    "\n",
    "etaSelections = [sel_IDEta0_6, \\\n",
    "                 sel_IDEta06_11, \\\n",
    "                 sel_IDEta11_14, \\\n",
    "                 sel_IDEta14_15, \\\n",
    "                 sel_IDEta15_18, \\\n",
    "                 sel_IDEta18_23]\n",
    "\n",
    "eta_selectionDescriptions = [\"|#eta_{ID}|<0.6\",\\\n",
    "                           \"0.6<|#eta_{ID}|<1.1\",\\\n",
    "                           \"1.1<|#eta_{ID}|<1.4\",\\\n",
    "                           \"1.4<|#eta_{ID}|<1.5\",\\\n",
    "                           \"1.5<|#eta_{ID}|<1.8\",\\\n",
    "                           \"1.8<|#eta_{ID}|<2.3\"]\n",
    "\n",
    "binMax = 10.05\n",
    "binLow = 0.5\n",
    "nBins = 15\n",
    "base = (binMax/binLow) ** (1./float(nBins))\n",
    "bins = []\n",
    "for i in range(0, nBins + 1):\n",
    "    bins.append(0.5 * (base) ** i )\n",
    "    \n",
    "canvases = []\n",
    "keep_histograms_alive = []\n",
    "    \n",
    "for (etaSelection, eta_selectionDescription) in zip(etaSelections, eta_selectionDescriptions):\n",
    "    #do the eta selection and count the inclusive number of tracks in the bin\n",
    "    selections = [etaSelection]\n",
    "    trkMultiplicity_Eta = plots.GetHistograms(calc_trkP,\\\n",
    "                                      list_selections = selections,\\\n",
    "                                      bins = bins, \\\n",
    "                                      xlabel =\"Track P [GeV]\", \\\n",
    "                                      ylabel = \"Normalized\",\\\n",
    "                                      normalize = True,\\\n",
    "                                      )\n",
    "    \n",
    "    #do the eta selections and count the number of tracks with an energy deposity less than or equal to 0.0.\n",
    "    from selections.selections import sel_ELessEqual0\n",
    "    selections = [sel_ELessEqual0] + [etaSelection]\n",
    "    trkMultiplicity_Eta_Zero = plots.GetHistograms(calc_trkP,\\\n",
    "                                      list_selections = selections,\\\n",
    "                                      bins = bins, \\\n",
    "                                      xlabel =\"Track P [GeV]\", \\\n",
    "                                      ylabel = \"Normalized N(E<=0)/N\",\\\n",
    "                                      normalize = True,\\\n",
    "                                      )\n",
    "    ratio_histogram = DivideHistograms(trkMultiplicity_Eta_Zero, trkMultiplicity_Eta)\n",
    "    keep_histograms_alive.append(ratio_histogram)\n",
    "    description = [eta_selectionDescription] + base_description\n",
    "    scale_factor = 5.0\n",
    "    DataVsMCTrackLess0 = DrawDataVsMC(ratio_histogram, \\\n",
    "                           plots.channelLabels, \\\n",
    "                           MCKey='PythiaJetJet', \\\n",
    "                           DataKey='MinBiasData',\\\n",
    "                           extra_description = description,\\\n",
    "                           scale_factor = scale_factor,\\\n",
    "                           ratio_min = 0.8,\\\n",
    "                           ratio_max = 1.2,\\\n",
    "                           doLogx = True,\n",
    "                           doLogy = False)\n",
    "    canvases.append(DataVsMCTrackLess0)\n",
    "    "
   ]
  },
  {
   "cell_type": "code",
   "execution_count": null,
   "metadata": {},
   "outputs": [],
   "source": [
    "canvases[0].Draw()"
   ]
  },
  {
   "cell_type": "code",
   "execution_count": null,
   "metadata": {},
   "outputs": [],
   "source": [
    "canvases[1].Draw()"
   ]
  },
  {
   "cell_type": "code",
   "execution_count": null,
   "metadata": {},
   "outputs": [],
   "source": [
    "canvases[2].Draw()"
   ]
  },
  {
   "cell_type": "code",
   "execution_count": null,
   "metadata": {},
   "outputs": [],
   "source": [
    "canvases[3].Draw()"
   ]
  },
  {
   "cell_type": "code",
   "execution_count": null,
   "metadata": {},
   "outputs": [],
   "source": [
    "canvases[4].Draw()"
   ]
  },
  {
   "cell_type": "code",
   "execution_count": null,
   "metadata": {},
   "outputs": [],
   "source": [
    "canvases[5].Draw()"
   ]
  },
  {
   "cell_type": "code",
   "execution_count": null,
   "metadata": {},
   "outputs": [],
   "source": []
  },
  {
   "cell_type": "code",
   "execution_count": null,
   "metadata": {},
   "outputs": [],
   "source": []
  },
  {
   "cell_type": "code",
   "execution_count": null,
   "metadata": {},
   "outputs": [],
   "source": []
  }
 ],
 "metadata": {
  "kernelspec": {
   "display_name": "Python 2",
   "language": "python",
   "name": "python2"
  },
  "language_info": {
   "codemirror_mode": {
    "name": "ipython",
    "version": 2
   },
   "file_extension": ".py",
   "mimetype": "text/x-python",
   "name": "python",
   "nbconvert_exporter": "python",
   "pygments_lexer": "ipython2",
   "version": "2.7.10"
  }
 },
 "nbformat": 4,
 "nbformat_minor": 2
}
