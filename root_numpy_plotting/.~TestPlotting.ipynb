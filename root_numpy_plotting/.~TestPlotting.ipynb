{
 "cells": [
  {
   "cell_type": "code",
   "execution_count": 1,
   "metadata": {},
   "outputs": [
    {
     "name": "stdout",
     "output_type": "stream",
     "text": [
      "Welcome to JupyROOT 6.10/09\n",
      "\n",
      "\u001b[92mApplying ATLAS style settings...\u001b[0m\n",
      "\n"
     ]
    }
   ],
   "source": [
    "from PlottingTools.Plotter import Plotter, DrawDataVsMC\n",
    "import ROOT"
   ]
  },
  {
   "cell_type": "code",
   "execution_count": 2,
   "metadata": {},
   "outputs": [],
   "source": [
    "from inputs.samples import INPUT"
   ]
  },
  {
   "cell_type": "code",
   "execution_count": 3,
   "metadata": {},
   "outputs": [],
   "source": [
    "plots = Plotter(INPUT, \"EoverP_ClusterEnergyLCWInDetTrackParticlesLoose_tree\")"
   ]
  },
  {
   "cell_type": "code",
   "execution_count": null,
   "metadata": {},
   "outputs": [],
   "source": []
  },
  {
   "cell_type": "code",
   "execution_count": 4,
   "metadata": {},
   "outputs": [],
   "source": [
    "from variables.variables import calc_trkP, calc_EOP\n",
    "from selections.selections import sel_NTRT20, sel_NTRT25, sel_NTRT30, sel_Eta0_5, sel_PGreater1 ,sel_PGreater1_5, sel_PGreater2"
   ]
  },
  {
   "cell_type": "code",
   "execution_count": 5,
   "metadata": {},
   "outputs": [
    {
     "name": "stdout",
     "output_type": "stream",
     "text": [
      "Reading from file /Users/lukasadamek/cernbox/EOPTuples/haddedTogether/EOPTuples_v02/user.luadamek.mc16_13TeV.361020.jetjet.Sept21_2018_EOP_noTrigger_hist\n",
      "Getting tree EoverP_ClusterEnergyLCWInDetTrackParticlesLoose_tree\n",
      "Importing root_numpy for a process\n",
      "['trk_p', 'trkWeight']\n",
      "Reading from file /Users/lukasadamek/cernbox/EOPTuples/haddedTogether/EOPTuples_v02/user.luadamek.mc16_13TeV.361020.jetjet.Sept21_2018_EOP_noTrigger_hist\n",
      "Got the data for parition (0, 14673586L)\n",
      "X Section Weight Set To 76.49871\n",
      "calculating variables for trkP\n",
      "\n",
      "\n",
      "\n",
      "\n",
      "\n",
      "===============\n",
      "Preselections are being applied\n",
      "Pre-selection event count14673586\n",
      "post preselection event count14673586\n",
      "14673586\n",
      "14673586\n",
      "[8.20865734 1.05619434 3.89066143 ... 2.73285722 1.0764901  1.08718046]\n",
      "[76.49871 76.49871 76.49871 ... 76.49871 76.49871 76.49871]\n",
      "Filling Variable trkP\n",
      "Reading from file /Users/lukasadamek/cernbox/EOPTuples/haddedTogether/EOPTuples_v02/user.luadamek.mc16_13TeV.361021.jetjet.Sept21_2018_EOP_noTrigger_hist\n",
      "Getting tree EoverP_ClusterEnergyLCWInDetTrackParticlesLoose_tree\n",
      "Importing root_numpy for a process\n",
      "['trk_p', 'trkWeight']\n",
      "Reading from file /Users/lukasadamek/cernbox/EOPTuples/haddedTogether/EOPTuples_v02/user.luadamek.mc16_13TeV.361021.jetjet.Sept21_2018_EOP_noTrigger_hist\n",
      "Got the data for parition (0, 19698792L)\n",
      "X Section Weight Set To 0.0526535406\n",
      "calculating variables for trkP\n",
      "\n",
      "\n",
      "\n",
      "\n",
      "\n",
      "===============\n",
      "Preselections are being applied\n",
      "Pre-selection event count19698792\n",
      "post preselection event count19698792\n",
      "19698792\n",
      "19698792\n",
      "[2.6035083  4.13595259 2.52158562 ... 1.49104159 2.75264246 1.97318121]\n",
      "[0.38089796 0.38089796 0.38089796 ... 1.82444104 1.82444104 1.82444104]\n",
      "Filling Variable trkP\n",
      "Reading from file /Users/lukasadamek/cernbox/EOPTuples/haddedTogether/EOPTuples_v02/user.luadamek.mc16_13TeV.361022.jetjet.Sept21_2018_EOP_noTrigger_hist\n",
      "Getting tree EoverP_ClusterEnergyLCWInDetTrackParticlesLoose_tree\n",
      "Importing root_numpy for a process\n",
      "['trk_p', 'trkWeight']\n",
      "Reading from file /Users/lukasadamek/cernbox/EOPTuples/haddedTogether/EOPTuples_v02/user.luadamek.mc16_13TeV.361022.jetjet.Sept21_2018_EOP_noTrigger_hist\n",
      "Got the data for parition (0, 18473120L)\n",
      "X Section Weight Set To 0.000814062498498\n",
      "calculating variables for trkP\n",
      "\n",
      "\n",
      "\n",
      "\n",
      "\n",
      "===============\n",
      "Preselections are being applied\n",
      "Pre-selection event count18473120\n",
      "post preselection event count18473120\n",
      "18473120\n",
      "18473120\n",
      "[ 3.36646014 20.88092744  1.00210298 ...  8.00622383  1.37147499\n",
      "  1.28163906]\n",
      "[0.00139348 0.00139348 0.00139348 ... 0.00123304 0.00123304 0.00123304]\n",
      "Filling Variable trkP\n",
      "TFile**\t\t/Users/lukasadamek/cernbox/EOPTuples/haddedTogether/EOPTuples_v02/user.luadamek.mc16_13TeV.361020.jetjet.Sept21_2018_EOP_noTrigger_hist\t\n",
      " TFile*\t\t/Users/lukasadamek/cernbox/EOPTuples/haddedTogether/EOPTuples_v02/user.luadamek.mc16_13TeV.361020.jetjet.Sept21_2018_EOP_noTrigger_hist\t\n",
      "  KEY: TDirectoryFile\tTracks_BasicEvtSel;1\tTracks_BasicEvtSel\n",
      "  KEY: TDirectoryFile\tTracks_LoosePrimary;1\tTracks_LoosePrimary\n",
      "  KEY: TDirectoryFile\tEoverP_ClusterEnergyInDetTrackParticlesLoose;1\tEoverP_ClusterEnergyInDetTrackParticlesLoose\n",
      "  KEY: TDirectoryFile\tEoverP_ClusterEnergyLCWInDetTrackParticlesLoose;1\tEoverP_ClusterEnergyLCWInDetTrackParticlesLoose\n",
      "  KEY: TDirectoryFile\tEoverP_CellEnergyInDetTrackParticlesLoose;1\tEoverP_CellEnergyInDetTrackParticlesLoose\n",
      "  KEY: TTree\tEventLoop_FileExecuted;1\texecuted files\n",
      "  KEY: TH1D\tEventLoop_EventCount;1\tnumber of events per algorithm\n",
      "  KEY: TH1D\tEventLoop_RunTime;1\tworker run-time summary\n",
      "  KEY: TH1D\tEoverP_ClusterEnergyInDetTrackParticlesLoosecutflow_trks_eop;1\tcutflow_trks_1\n",
      "  KEY: TH1D\tEoverP_ClusterEnergyLCWInDetTrackParticlesLoosecutflow_trks_eop;1\tcutflow_trks_1\n",
      "  KEY: TH1D\tEoverP_CellEnergyInDetTrackParticlesLoosecutflow_trks_eop;1\tcutflow_trks_1\n",
      "  KEY: TTree\tEoverP_ClusterEnergyInDetTrackParticlesLoose_tree;1\tEoverP_ClusterEnergyInDetTrackParticlesLoose_tree\n",
      "  KEY: TTree\tEoverP_ClusterEnergyLCWInDetTrackParticlesLoose_tree;1\tEoverP_ClusterEnergyLCWInDetTrackParticlesLoose_tree\n",
      "  KEY: TTree\tEoverP_CellEnergyInDetTrackParticlesLoose_tree;1\tEoverP_CellEnergyInDetTrackParticlesLoose_tree\n",
      "TFile**\t\t/Users/lukasadamek/cernbox/EOPTuples/haddedTogether/EOPTuples_v02/user.luadamek.mc16_13TeV.361021.jetjet.Sept21_2018_EOP_noTrigger_hist\t\n",
      " TFile*\t\t/Users/lukasadamek/cernbox/EOPTuples/haddedTogether/EOPTuples_v02/user.luadamek.mc16_13TeV.361021.jetjet.Sept21_2018_EOP_noTrigger_hist\t\n",
      "  KEY: TDirectoryFile\tTracks_BasicEvtSel;1\tTracks_BasicEvtSel\n",
      "  KEY: TDirectoryFile\tTracks_LoosePrimary;1\tTracks_LoosePrimary\n",
      "  KEY: TDirectoryFile\tEoverP_ClusterEnergyInDetTrackParticlesLoose;1\tEoverP_ClusterEnergyInDetTrackParticlesLoose\n",
      "  KEY: TDirectoryFile\tEoverP_ClusterEnergyLCWInDetTrackParticlesLoose;1\tEoverP_ClusterEnergyLCWInDetTrackParticlesLoose\n",
      "  KEY: TDirectoryFile\tEoverP_CellEnergyInDetTrackParticlesLoose;1\tEoverP_CellEnergyInDetTrackParticlesLoose\n",
      "  KEY: TTree\tEventLoop_FileExecuted;1\texecuted files\n",
      "  KEY: TH1D\tEventLoop_EventCount;1\tnumber of events per algorithm\n",
      "  KEY: TH1D\tEventLoop_RunTime;1\tworker run-time summary\n",
      "  KEY: TH1D\tEoverP_ClusterEnergyInDetTrackParticlesLoosecutflow_trks_eop;1\tcutflow_trks_1\n",
      "  KEY: TH1D\tEoverP_ClusterEnergyLCWInDetTrackParticlesLoosecutflow_trks_eop;1\tcutflow_trks_1\n",
      "  KEY: TH1D\tEoverP_CellEnergyInDetTrackParticlesLoosecutflow_trks_eop;1\tcutflow_trks_1\n",
      "  KEY: TTree\tEoverP_ClusterEnergyInDetTrackParticlesLoose_tree;1\tEoverP_ClusterEnergyInDetTrackParticlesLoose_tree\n",
      "  KEY: TTree\tEoverP_ClusterEnergyLCWInDetTrackParticlesLoose_tree;1\tEoverP_ClusterEnergyLCWInDetTrackParticlesLoose_tree\n",
      "  KEY: TTree\tEoverP_CellEnergyInDetTrackParticlesLoose_tree;1\tEoverP_CellEnergyInDetTrackParticlesLoose_tree\n",
      "TFile**\t\t/Users/lukasadamek/cernbox/EOPTuples/haddedTogether/EOPTuples_v02/user.luadamek.mc16_13TeV.361022.jetjet.Sept21_2018_EOP_noTrigger_hist\t\n",
      " TFile*\t\t/Users/lukasadamek/cernbox/EOPTuples/haddedTogether/EOPTuples_v02/user.luadamek.mc16_13TeV.361022.jetjet.Sept21_2018_EOP_noTrigger_hist\t\n",
      "  KEY: TDirectoryFile\tTracks_BasicEvtSel;1\tTracks_BasicEvtSel\n",
      "  KEY: TDirectoryFile\tTracks_LoosePrimary;1\tTracks_LoosePrimary\n",
      "  KEY: TDirectoryFile\tEoverP_ClusterEnergyInDetTrackParticlesLoose;1\tEoverP_ClusterEnergyInDetTrackParticlesLoose\n",
      "  KEY: TDirectoryFile\tEoverP_ClusterEnergyLCWInDetTrackParticlesLoose;1\tEoverP_ClusterEnergyLCWInDetTrackParticlesLoose\n",
      "  KEY: TDirectoryFile\tEoverP_CellEnergyInDetTrackParticlesLoose;1\tEoverP_CellEnergyInDetTrackParticlesLoose\n",
      "  KEY: TTree\tEventLoop_FileExecuted;1\texecuted files\n",
      "  KEY: TH1D\tEventLoop_EventCount;1\tnumber of events per algorithm\n",
      "  KEY: TH1D\tEventLoop_RunTime;1\tworker run-time summary\n",
      "  KEY: TH1D\tEoverP_ClusterEnergyInDetTrackParticlesLoosecutflow_trks_eop;1\tcutflow_trks_1\n",
      "  KEY: TH1D\tEoverP_ClusterEnergyLCWInDetTrackParticlesLoosecutflow_trks_eop;1\tcutflow_trks_1\n",
      "  KEY: TH1D\tEoverP_CellEnergyInDetTrackParticlesLoosecutflow_trks_eop;1\tcutflow_trks_1\n",
      "  KEY: TTree\tEoverP_ClusterEnergyInDetTrackParticlesLoose_tree;1\tEoverP_ClusterEnergyInDetTrackParticlesLoose_tree\n",
      "  KEY: TTree\tEoverP_ClusterEnergyLCWInDetTrackParticlesLoose_tree;1\tEoverP_ClusterEnergyLCWInDetTrackParticlesLoose_tree\n",
      "  KEY: TTree\tEoverP_CellEnergyInDetTrackParticlesLoose_tree;1\tEoverP_CellEnergyInDetTrackParticlesLoose_tree\n"
     ]
    },
    {
     "name": "stderr",
     "output_type": "stream",
     "text": [
      "Warning in <TClass::Init>: no dictionary for class ROOT::TIOFeatures is available\n"
     ]
    }
   ],
   "source": [
    "trkPHist = plots.GetHistograms(calc_trkP, list_selections = [], nBins = 50, range_low = 0.5/1000.0, range_high = 50, xlabel =\"\", ylabel = \"\")"
   ]
  },
  {
   "cell_type": "code",
   "execution_count": 6,
   "metadata": {},
   "outputs": [],
   "source": [
    "DataVsMC = DrawDataVsMC(trkPHist, plots.channelLabels, MCKey='PythiaJetJet', DataKey='PythiaJetJet')"
   ]
  },
  {
   "cell_type": "code",
   "execution_count": 7,
   "metadata": {},
   "outputs": [
    {
     "data": {
      "image/png": "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\n",
      "text/plain": [
       "<IPython.core.display.Image object>"
      ]
     },
     "metadata": {},
     "output_type": "display_data"
    }
   ],
   "source": [
    "DataVsMC.Draw()"
   ]
  },
  {
   "cell_type": "code",
   "execution_count": 8,
   "metadata": {},
   "outputs": [
    {
     "name": "stdout",
     "output_type": "stream",
     "text": [
      "Reading from file /Users/lukasadamek/cernbox/EOPTuples/haddedTogether/EOPTuples_v02/user.luadamek.mc16_13TeV.361020.jetjet.Sept21_2018_EOP_noTrigger_hist\n",
      "Getting tree EoverP_ClusterEnergyLCWInDetTrackParticlesLoose_tree\n",
      "Importing root_numpy for a process\n",
      "['trk_sumE_Total_200', 'trk_p', 'trk_etaEMB2', 'trk_etaEME2', 'trkWeight']\n",
      "Reading from file /Users/lukasadamek/cernbox/EOPTuples/haddedTogether/EOPTuples_v02/user.luadamek.mc16_13TeV.361020.jetjet.Sept21_2018_EOP_noTrigger_hist\n",
      "Got the data for parition (0, 14673586L)\n",
      "X Section Weight Set To 76.49871\n",
      "calculating variables for EOP\n",
      "calculating selection Eta0_5\n",
      "\n",
      "\n",
      "\n",
      "\n",
      "\n",
      "===============\n",
      "Preselections are being applied\n",
      "Pre-selection event count14673586\n",
      "applying selection Eta0_5\n",
      "[False False False ... False False False]\n",
      "post preselection event count2911496\n",
      "2911496\n",
      "2911496\n",
      "[0. 0. 0. ... 0. 0. 0.]\n",
      "[76.49871 76.49871 76.49871 ... 76.49871 76.49871 76.49871]\n",
      "Filling Variable EOP\n",
      "Reading from file /Users/lukasadamek/cernbox/EOPTuples/haddedTogether/EOPTuples_v02/user.luadamek.mc16_13TeV.361021.jetjet.Sept21_2018_EOP_noTrigger_hist\n",
      "Getting tree EoverP_ClusterEnergyLCWInDetTrackParticlesLoose_tree\n",
      "Importing root_numpy for a process\n",
      "['trk_sumE_Total_200', 'trk_p', 'trk_etaEMB2', 'trk_etaEME2', 'trkWeight']\n",
      "Reading from file /Users/lukasadamek/cernbox/EOPTuples/haddedTogether/EOPTuples_v02/user.luadamek.mc16_13TeV.361021.jetjet.Sept21_2018_EOP_noTrigger_hist\n",
      "Got the data for parition (0, 19698792L)\n",
      "X Section Weight Set To 0.0526535406\n",
      "calculating variables for EOP\n",
      "calculating selection Eta0_5\n",
      "\n",
      "\n",
      "\n",
      "\n",
      "\n",
      "===============\n",
      "Preselections are being applied\n",
      "Pre-selection event count19698792\n",
      "applying selection Eta0_5\n",
      "[False False False ... False False False]\n",
      "post preselection event count3743483\n",
      "3743483\n",
      "3743483\n",
      "[0.         0.         1.16845521 ... 0.         0.         0.        ]\n",
      "[0.38089796 0.38089796 0.38089796 ... 1.82444104 1.82444104 1.82444104]\n",
      "Filling Variable EOP\n",
      "Reading from file /Users/lukasadamek/cernbox/EOPTuples/haddedTogether/EOPTuples_v02/user.luadamek.mc16_13TeV.361022.jetjet.Sept21_2018_EOP_noTrigger_hist\n",
      "Getting tree EoverP_ClusterEnergyLCWInDetTrackParticlesLoose_tree\n",
      "Importing root_numpy for a process\n",
      "['trk_sumE_Total_200', 'trk_p', 'trk_etaEMB2', 'trk_etaEME2', 'trkWeight']\n",
      "Reading from file /Users/lukasadamek/cernbox/EOPTuples/haddedTogether/EOPTuples_v02/user.luadamek.mc16_13TeV.361022.jetjet.Sept21_2018_EOP_noTrigger_hist\n",
      "Got the data for parition (0, 18473120L)\n",
      "X Section Weight Set To 0.000814062498498\n",
      "calculating variables for EOP\n",
      "calculating selection Eta0_5\n",
      "\n",
      "\n",
      "\n",
      "\n",
      "\n",
      "===============\n",
      "Preselections are being applied\n",
      "Pre-selection event count18473120\n",
      "applying selection Eta0_5\n",
      "[False False False ... False False False]\n",
      "post preselection event count3462116\n",
      "3462116\n",
      "3462116\n",
      "[0. 0. 0. ... 0. 0. 0.]\n",
      "[0.00139348 0.00139348 0.00139348 ... 0.00123304 0.00123304 0.00123304]\n",
      "Filling Variable EOP\n",
      "TFile**\t\t/Users/lukasadamek/cernbox/EOPTuples/haddedTogether/EOPTuples_v02/user.luadamek.mc16_13TeV.361020.jetjet.Sept21_2018_EOP_noTrigger_hist\t\n",
      " TFile*\t\t/Users/lukasadamek/cernbox/EOPTuples/haddedTogether/EOPTuples_v02/user.luadamek.mc16_13TeV.361020.jetjet.Sept21_2018_EOP_noTrigger_hist\t\n",
      "  KEY: TDirectoryFile\tTracks_BasicEvtSel;1\tTracks_BasicEvtSel\n",
      "  KEY: TDirectoryFile\tTracks_LoosePrimary;1\tTracks_LoosePrimary\n",
      "  KEY: TDirectoryFile\tEoverP_ClusterEnergyInDetTrackParticlesLoose;1\tEoverP_ClusterEnergyInDetTrackParticlesLoose\n",
      "  KEY: TDirectoryFile\tEoverP_ClusterEnergyLCWInDetTrackParticlesLoose;1\tEoverP_ClusterEnergyLCWInDetTrackParticlesLoose\n",
      "  KEY: TDirectoryFile\tEoverP_CellEnergyInDetTrackParticlesLoose;1\tEoverP_CellEnergyInDetTrackParticlesLoose\n",
      "  KEY: TTree\tEventLoop_FileExecuted;1\texecuted files\n",
      "  KEY: TH1D\tEventLoop_EventCount;1\tnumber of events per algorithm\n",
      "  KEY: TH1D\tEventLoop_RunTime;1\tworker run-time summary\n",
      "  KEY: TH1D\tEoverP_ClusterEnergyInDetTrackParticlesLoosecutflow_trks_eop;1\tcutflow_trks_1\n",
      "  KEY: TH1D\tEoverP_ClusterEnergyLCWInDetTrackParticlesLoosecutflow_trks_eop;1\tcutflow_trks_1\n",
      "  KEY: TH1D\tEoverP_CellEnergyInDetTrackParticlesLoosecutflow_trks_eop;1\tcutflow_trks_1\n",
      "  KEY: TTree\tEoverP_ClusterEnergyInDetTrackParticlesLoose_tree;1\tEoverP_ClusterEnergyInDetTrackParticlesLoose_tree\n",
      "  KEY: TTree\tEoverP_ClusterEnergyLCWInDetTrackParticlesLoose_tree;1\tEoverP_ClusterEnergyLCWInDetTrackParticlesLoose_tree\n",
      "  KEY: TTree\tEoverP_CellEnergyInDetTrackParticlesLoose_tree;1\tEoverP_CellEnergyInDetTrackParticlesLoose_tree\n",
      "TFile**\t\t/Users/lukasadamek/cernbox/EOPTuples/haddedTogether/EOPTuples_v02/user.luadamek.mc16_13TeV.361021.jetjet.Sept21_2018_EOP_noTrigger_hist\t\n",
      " TFile*\t\t/Users/lukasadamek/cernbox/EOPTuples/haddedTogether/EOPTuples_v02/user.luadamek.mc16_13TeV.361021.jetjet.Sept21_2018_EOP_noTrigger_hist\t\n",
      "  KEY: TDirectoryFile\tTracks_BasicEvtSel;1\tTracks_BasicEvtSel\n",
      "  KEY: TDirectoryFile\tTracks_LoosePrimary;1\tTracks_LoosePrimary\n",
      "  KEY: TDirectoryFile\tEoverP_ClusterEnergyInDetTrackParticlesLoose;1\tEoverP_ClusterEnergyInDetTrackParticlesLoose\n",
      "  KEY: TDirectoryFile\tEoverP_ClusterEnergyLCWInDetTrackParticlesLoose;1\tEoverP_ClusterEnergyLCWInDetTrackParticlesLoose\n",
      "  KEY: TDirectoryFile\tEoverP_CellEnergyInDetTrackParticlesLoose;1\tEoverP_CellEnergyInDetTrackParticlesLoose\n",
      "  KEY: TTree\tEventLoop_FileExecuted;1\texecuted files\n",
      "  KEY: TH1D\tEventLoop_EventCount;1\tnumber of events per algorithm\n",
      "  KEY: TH1D\tEventLoop_RunTime;1\tworker run-time summary\n",
      "  KEY: TH1D\tEoverP_ClusterEnergyInDetTrackParticlesLoosecutflow_trks_eop;1\tcutflow_trks_1\n",
      "  KEY: TH1D\tEoverP_ClusterEnergyLCWInDetTrackParticlesLoosecutflow_trks_eop;1\tcutflow_trks_1\n",
      "  KEY: TH1D\tEoverP_CellEnergyInDetTrackParticlesLoosecutflow_trks_eop;1\tcutflow_trks_1\n",
      "  KEY: TTree\tEoverP_ClusterEnergyInDetTrackParticlesLoose_tree;1\tEoverP_ClusterEnergyInDetTrackParticlesLoose_tree\n",
      "  KEY: TTree\tEoverP_ClusterEnergyLCWInDetTrackParticlesLoose_tree;1\tEoverP_ClusterEnergyLCWInDetTrackParticlesLoose_tree\n",
      "  KEY: TTree\tEoverP_CellEnergyInDetTrackParticlesLoose_tree;1\tEoverP_CellEnergyInDetTrackParticlesLoose_tree\n",
      "TFile**\t\t/Users/lukasadamek/cernbox/EOPTuples/haddedTogether/EOPTuples_v02/user.luadamek.mc16_13TeV.361022.jetjet.Sept21_2018_EOP_noTrigger_hist\t\n",
      " TFile*\t\t/Users/lukasadamek/cernbox/EOPTuples/haddedTogether/EOPTuples_v02/user.luadamek.mc16_13TeV.361022.jetjet.Sept21_2018_EOP_noTrigger_hist\t\n",
      "  KEY: TDirectoryFile\tTracks_BasicEvtSel;1\tTracks_BasicEvtSel\n",
      "  KEY: TDirectoryFile\tTracks_LoosePrimary;1\tTracks_LoosePrimary\n",
      "  KEY: TDirectoryFile\tEoverP_ClusterEnergyInDetTrackParticlesLoose;1\tEoverP_ClusterEnergyInDetTrackParticlesLoose\n",
      "  KEY: TDirectoryFile\tEoverP_ClusterEnergyLCWInDetTrackParticlesLoose;1\tEoverP_ClusterEnergyLCWInDetTrackParticlesLoose\n",
      "  KEY: TDirectoryFile\tEoverP_CellEnergyInDetTrackParticlesLoose;1\tEoverP_CellEnergyInDetTrackParticlesLoose\n",
      "  KEY: TTree\tEventLoop_FileExecuted;1\texecuted files\n",
      "  KEY: TH1D\tEventLoop_EventCount;1\tnumber of events per algorithm\n",
      "  KEY: TH1D\tEventLoop_RunTime;1\tworker run-time summary\n",
      "  KEY: TH1D\tEoverP_ClusterEnergyInDetTrackParticlesLoosecutflow_trks_eop;1\tcutflow_trks_1\n",
      "  KEY: TH1D\tEoverP_ClusterEnergyLCWInDetTrackParticlesLoosecutflow_trks_eop;1\tcutflow_trks_1\n",
      "  KEY: TH1D\tEoverP_CellEnergyInDetTrackParticlesLoosecutflow_trks_eop;1\tcutflow_trks_1\n",
      "  KEY: TTree\tEoverP_ClusterEnergyInDetTrackParticlesLoose_tree;1\tEoverP_ClusterEnergyInDetTrackParticlesLoose_tree\n",
      "  KEY: TTree\tEoverP_ClusterEnergyLCWInDetTrackParticlesLoose_tree;1\tEoverP_ClusterEnergyLCWInDetTrackParticlesLoose_tree\n",
      "  KEY: TTree\tEoverP_CellEnergyInDetTrackParticlesLoose_tree;1\tEoverP_CellEnergyInDetTrackParticlesLoose_tree\n"
     ]
    }
   ],
   "source": [
    "trkEOPHist = plots.GetHistograms(calc_EOP, list_selections = [sel_Eta0_5], nBins = 50, range_low = -4.0, range_high = 5.0, xlabel =\"\", ylabel = \"\")"
   ]
  },
  {
   "cell_type": "code",
   "execution_count": 9,
   "metadata": {},
   "outputs": [],
   "source": [
    "DataVsMC = DrawDataVsMC(trkEOPHist, plots.channelLabels, MCKey='PythiaJetJet', DataKey='PythiaJetJet')"
   ]
  },
  {
   "cell_type": "code",
   "execution_count": 10,
   "metadata": {
    "scrolled": true
   },
   "outputs": [
    {
     "data": {
      "image/png": "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\n",
      "text/plain": [
       "<IPython.core.display.Image object>"
      ]
     },
     "metadata": {},
     "output_type": "display_data"
    }
   ],
   "source": [
    "DataVsMC.Draw()"
   ]
  },
  {
   "cell_type": "code",
   "execution_count": 11,
   "metadata": {},
   "outputs": [
    {
     "name": "stdout",
     "output_type": "stream",
     "text": [
      "Reading from file /Users/lukasadamek/cernbox/EOPTuples/haddedTogether/EOPTuples_v02/user.luadamek.mc16_13TeV.361020.jetjet.Sept21_2018_EOP_noTrigger_hist\n",
      "Getting tree EoverP_ClusterEnergyLCWInDetTrackParticlesLoose_tree\n",
      "Importing root_numpy for a process\n",
      "['trk_sumE_Total_200', 'trk_p', 'trk_etaEMB2', 'trk_etaEME2', 'trkWeight']\n",
      "Reading from file /Users/lukasadamek/cernbox/EOPTuples/haddedTogether/EOPTuples_v02/user.luadamek.mc16_13TeV.361020.jetjet.Sept21_2018_EOP_noTrigger_hist\n",
      "Got the data for parition (0, 14673586L)\n",
      "X Section Weight Set To 76.49871\n",
      "calculating variables for EOP\n",
      "calculating selection Eta0_5\n",
      "calculating selection PGreater1\n",
      "\n",
      "\n",
      "\n",
      "\n",
      "\n",
      "===============\n",
      "Preselections are being applied\n",
      "Pre-selection event count14673586\n",
      "applying selection Eta0_5\n",
      "[False False False ... False False False]\n",
      "applying selection PGreater1\n",
      "[ True  True  True ...  True  True  True]\n",
      "post preselection event count945085\n",
      "945085\n",
      "945085\n",
      "[0. 0. 0. ... 0. 0. 0.]\n",
      "[76.49871 76.49871 76.49871 ... 76.49871 76.49871 76.49871]\n",
      "Filling Variable EOP\n",
      "Reading from file /Users/lukasadamek/cernbox/EOPTuples/haddedTogether/EOPTuples_v02/user.luadamek.mc16_13TeV.361021.jetjet.Sept21_2018_EOP_noTrigger_hist\n",
      "Getting tree EoverP_ClusterEnergyLCWInDetTrackParticlesLoose_tree\n",
      "Importing root_numpy for a process\n",
      "['trk_sumE_Total_200', 'trk_p', 'trk_etaEMB2', 'trk_etaEME2', 'trkWeight']\n",
      "Reading from file /Users/lukasadamek/cernbox/EOPTuples/haddedTogether/EOPTuples_v02/user.luadamek.mc16_13TeV.361021.jetjet.Sept21_2018_EOP_noTrigger_hist\n",
      "Got the data for parition (0, 19698792L)\n",
      "X Section Weight Set To 0.0526535406\n",
      "calculating variables for EOP\n",
      "calculating selection Eta0_5\n",
      "calculating selection PGreater1\n",
      "\n",
      "\n",
      "\n",
      "\n",
      "\n",
      "===============\n",
      "Preselections are being applied\n",
      "Pre-selection event count19698792\n",
      "applying selection Eta0_5\n",
      "[False False False ... False False False]\n",
      "applying selection PGreater1\n",
      "[ True  True  True ...  True  True  True]\n",
      "post preselection event count1464591\n",
      "1464591\n",
      "1464591\n",
      "[0.         1.46754267 0.         ... 2.24212375 0.         0.        ]\n",
      "[0.24402083 0.24402083 0.24402083 ... 0.06144117 0.07344287 0.12438653]\n",
      "Filling Variable EOP\n",
      "Reading from file /Users/lukasadamek/cernbox/EOPTuples/haddedTogether/EOPTuples_v02/user.luadamek.mc16_13TeV.361022.jetjet.Sept21_2018_EOP_noTrigger_hist\n",
      "Getting tree EoverP_ClusterEnergyLCWInDetTrackParticlesLoose_tree\n",
      "Importing root_numpy for a process\n",
      "['trk_sumE_Total_200', 'trk_p', 'trk_etaEMB2', 'trk_etaEME2', 'trkWeight']\n",
      "Reading from file /Users/lukasadamek/cernbox/EOPTuples/haddedTogether/EOPTuples_v02/user.luadamek.mc16_13TeV.361022.jetjet.Sept21_2018_EOP_noTrigger_hist\n",
      "Got the data for parition (0, 18473120L)\n",
      "X Section Weight Set To 0.000814062498498\n",
      "calculating variables for EOP\n",
      "calculating selection Eta0_5\n",
      "calculating selection PGreater1\n",
      "\n",
      "\n",
      "\n",
      "\n",
      "\n",
      "===============\n",
      "Preselections are being applied\n",
      "Pre-selection event count18473120\n",
      "applying selection Eta0_5\n",
      "[False False False ... False False False]\n",
      "applying selection PGreater1\n",
      "[ True  True  True ...  True  True  True]\n",
      "post preselection event count1327630\n",
      "1327630\n",
      "1327630\n",
      "[0.         0.17047187 0.         ... 0.         0.         0.        ]\n",
      "[0.00139348 0.04942928 0.04942928 ... 0.15898893 0.00125627 0.00125627]\n",
      "Filling Variable EOP\n",
      "TFile**\t\t/Users/lukasadamek/cernbox/EOPTuples/haddedTogether/EOPTuples_v02/user.luadamek.mc16_13TeV.361020.jetjet.Sept21_2018_EOP_noTrigger_hist\t\n",
      " TFile*\t\t/Users/lukasadamek/cernbox/EOPTuples/haddedTogether/EOPTuples_v02/user.luadamek.mc16_13TeV.361020.jetjet.Sept21_2018_EOP_noTrigger_hist\t\n",
      "  KEY: TDirectoryFile\tTracks_BasicEvtSel;1\tTracks_BasicEvtSel\n",
      "  KEY: TDirectoryFile\tTracks_LoosePrimary;1\tTracks_LoosePrimary\n",
      "  KEY: TDirectoryFile\tEoverP_ClusterEnergyInDetTrackParticlesLoose;1\tEoverP_ClusterEnergyInDetTrackParticlesLoose\n",
      "  KEY: TDirectoryFile\tEoverP_ClusterEnergyLCWInDetTrackParticlesLoose;1\tEoverP_ClusterEnergyLCWInDetTrackParticlesLoose\n",
      "  KEY: TDirectoryFile\tEoverP_CellEnergyInDetTrackParticlesLoose;1\tEoverP_CellEnergyInDetTrackParticlesLoose\n",
      "  KEY: TTree\tEventLoop_FileExecuted;1\texecuted files\n",
      "  KEY: TH1D\tEventLoop_EventCount;1\tnumber of events per algorithm\n",
      "  KEY: TH1D\tEventLoop_RunTime;1\tworker run-time summary\n",
      "  KEY: TH1D\tEoverP_ClusterEnergyInDetTrackParticlesLoosecutflow_trks_eop;1\tcutflow_trks_1\n",
      "  KEY: TH1D\tEoverP_ClusterEnergyLCWInDetTrackParticlesLoosecutflow_trks_eop;1\tcutflow_trks_1\n",
      "  KEY: TH1D\tEoverP_CellEnergyInDetTrackParticlesLoosecutflow_trks_eop;1\tcutflow_trks_1\n",
      "  KEY: TTree\tEoverP_ClusterEnergyInDetTrackParticlesLoose_tree;1\tEoverP_ClusterEnergyInDetTrackParticlesLoose_tree\n",
      "  KEY: TTree\tEoverP_ClusterEnergyLCWInDetTrackParticlesLoose_tree;1\tEoverP_ClusterEnergyLCWInDetTrackParticlesLoose_tree\n",
      "  KEY: TTree\tEoverP_CellEnergyInDetTrackParticlesLoose_tree;1\tEoverP_CellEnergyInDetTrackParticlesLoose_tree\n",
      "TFile**\t\t/Users/lukasadamek/cernbox/EOPTuples/haddedTogether/EOPTuples_v02/user.luadamek.mc16_13TeV.361021.jetjet.Sept21_2018_EOP_noTrigger_hist\t\n",
      " TFile*\t\t/Users/lukasadamek/cernbox/EOPTuples/haddedTogether/EOPTuples_v02/user.luadamek.mc16_13TeV.361021.jetjet.Sept21_2018_EOP_noTrigger_hist\t\n",
      "  KEY: TDirectoryFile\tTracks_BasicEvtSel;1\tTracks_BasicEvtSel\n",
      "  KEY: TDirectoryFile\tTracks_LoosePrimary;1\tTracks_LoosePrimary\n",
      "  KEY: TDirectoryFile\tEoverP_ClusterEnergyInDetTrackParticlesLoose;1\tEoverP_ClusterEnergyInDetTrackParticlesLoose\n",
      "  KEY: TDirectoryFile\tEoverP_ClusterEnergyLCWInDetTrackParticlesLoose;1\tEoverP_ClusterEnergyLCWInDetTrackParticlesLoose\n",
      "  KEY: TDirectoryFile\tEoverP_CellEnergyInDetTrackParticlesLoose;1\tEoverP_CellEnergyInDetTrackParticlesLoose\n",
      "  KEY: TTree\tEventLoop_FileExecuted;1\texecuted files\n",
      "  KEY: TH1D\tEventLoop_EventCount;1\tnumber of events per algorithm\n",
      "  KEY: TH1D\tEventLoop_RunTime;1\tworker run-time summary\n",
      "  KEY: TH1D\tEoverP_ClusterEnergyInDetTrackParticlesLoosecutflow_trks_eop;1\tcutflow_trks_1\n",
      "  KEY: TH1D\tEoverP_ClusterEnergyLCWInDetTrackParticlesLoosecutflow_trks_eop;1\tcutflow_trks_1\n",
      "  KEY: TH1D\tEoverP_CellEnergyInDetTrackParticlesLoosecutflow_trks_eop;1\tcutflow_trks_1\n",
      "  KEY: TTree\tEoverP_ClusterEnergyInDetTrackParticlesLoose_tree;1\tEoverP_ClusterEnergyInDetTrackParticlesLoose_tree\n",
      "  KEY: TTree\tEoverP_ClusterEnergyLCWInDetTrackParticlesLoose_tree;1\tEoverP_ClusterEnergyLCWInDetTrackParticlesLoose_tree\n",
      "  KEY: TTree\tEoverP_CellEnergyInDetTrackParticlesLoose_tree;1\tEoverP_CellEnergyInDetTrackParticlesLoose_tree\n",
      "TFile**\t\t/Users/lukasadamek/cernbox/EOPTuples/haddedTogether/EOPTuples_v02/user.luadamek.mc16_13TeV.361022.jetjet.Sept21_2018_EOP_noTrigger_hist\t\n",
      " TFile*\t\t/Users/lukasadamek/cernbox/EOPTuples/haddedTogether/EOPTuples_v02/user.luadamek.mc16_13TeV.361022.jetjet.Sept21_2018_EOP_noTrigger_hist\t\n",
      "  KEY: TDirectoryFile\tTracks_BasicEvtSel;1\tTracks_BasicEvtSel\n",
      "  KEY: TDirectoryFile\tTracks_LoosePrimary;1\tTracks_LoosePrimary\n",
      "  KEY: TDirectoryFile\tEoverP_ClusterEnergyInDetTrackParticlesLoose;1\tEoverP_ClusterEnergyInDetTrackParticlesLoose\n",
      "  KEY: TDirectoryFile\tEoverP_ClusterEnergyLCWInDetTrackParticlesLoose;1\tEoverP_ClusterEnergyLCWInDetTrackParticlesLoose\n",
      "  KEY: TDirectoryFile\tEoverP_CellEnergyInDetTrackParticlesLoose;1\tEoverP_CellEnergyInDetTrackParticlesLoose\n",
      "  KEY: TTree\tEventLoop_FileExecuted;1\texecuted files\n",
      "  KEY: TH1D\tEventLoop_EventCount;1\tnumber of events per algorithm\n",
      "  KEY: TH1D\tEventLoop_RunTime;1\tworker run-time summary\n",
      "  KEY: TH1D\tEoverP_ClusterEnergyInDetTrackParticlesLoosecutflow_trks_eop;1\tcutflow_trks_1\n",
      "  KEY: TH1D\tEoverP_ClusterEnergyLCWInDetTrackParticlesLoosecutflow_trks_eop;1\tcutflow_trks_1\n",
      "  KEY: TH1D\tEoverP_CellEnergyInDetTrackParticlesLoosecutflow_trks_eop;1\tcutflow_trks_1\n",
      "  KEY: TTree\tEoverP_ClusterEnergyInDetTrackParticlesLoose_tree;1\tEoverP_ClusterEnergyInDetTrackParticlesLoose_tree\n",
      "  KEY: TTree\tEoverP_ClusterEnergyLCWInDetTrackParticlesLoose_tree;1\tEoverP_ClusterEnergyLCWInDetTrackParticlesLoose_tree\n",
      "  KEY: TTree\tEoverP_CellEnergyInDetTrackParticlesLoose_tree;1\tEoverP_CellEnergyInDetTrackParticlesLoose_tree\n"
     ]
    },
    {
     "name": "stderr",
     "output_type": "stream",
     "text": [
      "Warning in <TROOT::Append>: Replacing existing TH1: EOP_PythiaJetJet (Potential memory leak).\n"
     ]
    }
   ],
   "source": [
    "trkEOPHist = plots.GetHistograms(calc_EOP, list_selections = [sel_Eta0_5, sel_PGreater1], nBins = 50, range_low = -4.0, range_high = 5.0, xlabel =\"\", ylabel = \"\")"
   ]
  },
  {
   "cell_type": "code",
   "execution_count": 12,
   "metadata": {},
   "outputs": [
    {
     "name": "stderr",
     "output_type": "stream",
     "text": [
      "Warning in <TCanvas::Constructor>: Deleting canvas with same name: PythiaJetJetPythiaJetJetEOP_PythiaJetJet\n"
     ]
    }
   ],
   "source": [
    "DataVsMC = DrawDataVsMC(trkEOPHist, plots.channelLabels, MCKey='PythiaJetJet', DataKey='PythiaJetJet')"
   ]
  },
  {
   "cell_type": "code",
   "execution_count": 13,
   "metadata": {
    "scrolled": true
   },
   "outputs": [
    {
     "data": {
      "image/png": "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