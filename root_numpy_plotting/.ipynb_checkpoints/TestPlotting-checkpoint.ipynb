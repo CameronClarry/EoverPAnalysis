{
 "cells": [
  {
   "cell_type": "code",
   "execution_count": 11,
   "metadata": {},
   "outputs": [],
   "source": [
    "from PlottingTools.Plotter import Plotter\n",
    "import ROOT"
   ]
  },
  {
   "cell_type": "code",
   "execution_count": 2,
   "metadata": {},
   "outputs": [],
   "source": [
    "from inputs.samples import INPUT"
   ]
  },
  {
   "cell_type": "code",
   "execution_count": 3,
   "metadata": {},
   "outputs": [],
   "source": [
    "plots = Plotter(INPUT, \"EoverP_ClusterEnergyLCWInDetTrackParticlesLoose_tree\")"
   ]
  },
  {
   "cell_type": "code",
   "execution_count": 4,
   "metadata": {},
   "outputs": [
    {
     "data": {
      "text/plain": [
       "<PlottingTools.Plotter.Plotter instance at 0x112610ea8>"
      ]
     },
     "execution_count": 4,
     "metadata": {},
     "output_type": "execute_result"
    }
   ],
   "source": [
    "plots"
   ]
  },
  {
   "cell_type": "code",
   "execution_count": 5,
   "metadata": {},
   "outputs": [],
   "source": [
    "from variables.variables import calc_trkP"
   ]
  },
  {
   "cell_type": "code",
   "execution_count": 6,
   "metadata": {},
   "outputs": [
    {
     "name": "stdout",
     "output_type": "stream",
     "text": [
      "Reading from file /Users/lukasadamek/cernbox/EOPTuples/haddedTogether/EOPTuples_v02/user.luadamek.mc16_13TeV.361020.jetjet.Sept21_2018_EOP_noTrigger_hist\n",
      "Getting tree EoverP_ClusterEnergyLCWInDetTrackParticlesLoose_tree\n",
      "Importing root_numpy for a process\n",
      "['trk_p', 'trkWeight']\n",
      "Reading from file /Users/lukasadamek/cernbox/EOPTuples/haddedTogether/EOPTuples_v02/user.luadamek.mc16_13TeV.361020.jetjet.Sept21_2018_EOP_noTrigger_hist\n",
      "Got the data for parition (0, 14673586L)\n",
      "X Section Weight Set To 76.49871\n",
      "calculating variables for trkP\n",
      "\n",
      "\n",
      "\n",
      "\n",
      "\n",
      "===============\n",
      "Preselections are being applied\n",
      "Pre-selection event count14673586\n",
      "post preselection event count14673586\n",
      "14673586\n",
      "14673586\n",
      "[8.20865734 1.05619434 3.89066143 ... 2.73285722 1.0764901  1.08718046]\n",
      "[76.49871 76.49871 76.49871 ... 76.49871 76.49871 76.49871]\n",
      "Filling Variable trkP\n",
      "Reading from file /Users/lukasadamek/cernbox/EOPTuples/haddedTogether/EOPTuples_v02/user.luadamek.mc16_13TeV.361021.jetjet.Sept21_2018_EOP_noTrigger_hist\n",
      "Getting tree EoverP_ClusterEnergyLCWInDetTrackParticlesLoose_tree\n",
      "Importing root_numpy for a process\n",
      "['trk_p', 'trkWeight']\n",
      "Reading from file /Users/lukasadamek/cernbox/EOPTuples/haddedTogether/EOPTuples_v02/user.luadamek.mc16_13TeV.361021.jetjet.Sept21_2018_EOP_noTrigger_hist\n",
      "Got the data for parition (0, 19698792L)\n",
      "X Section Weight Set To 0.0526535406\n",
      "calculating variables for trkP\n",
      "\n",
      "\n",
      "\n",
      "\n",
      "\n",
      "===============\n",
      "Preselections are being applied\n",
      "Pre-selection event count19698792\n",
      "post preselection event count19698792\n",
      "19698792\n",
      "19698792\n",
      "[2.6035083  4.13595259 2.52158562 ... 1.49104159 2.75264246 1.97318121]\n",
      "[0.38089796 0.38089796 0.38089796 ... 1.82444104 1.82444104 1.82444104]\n",
      "Filling Variable trkP\n",
      "Reading from file /Users/lukasadamek/cernbox/EOPTuples/haddedTogether/EOPTuples_v02/user.luadamek.mc16_13TeV.361022.jetjet.Sept21_2018_EOP_noTrigger_hist\n",
      "Getting tree EoverP_ClusterEnergyLCWInDetTrackParticlesLoose_tree\n",
      "Importing root_numpy for a process\n",
      "['trk_p', 'trkWeight']\n",
      "Reading from file /Users/lukasadamek/cernbox/EOPTuples/haddedTogether/EOPTuples_v02/user.luadamek.mc16_13TeV.361022.jetjet.Sept21_2018_EOP_noTrigger_hist\n",
      "Got the data for parition (0, 18473120L)\n",
      "X Section Weight Set To 0.000814062498498\n",
      "calculating variables for trkP\n",
      "\n",
      "\n",
      "\n",
      "\n",
      "\n",
      "===============\n",
      "Preselections are being applied\n",
      "Pre-selection event count18473120\n",
      "post preselection event count18473120\n",
      "18473120\n",
      "18473120\n",
      "[ 3.36646014 20.88092744  1.00210298 ...  8.00622383  1.37147499\n",
      "  1.28163906]\n",
      "[0.00139348 0.00139348 0.00139348 ... 0.00123304 0.00123304 0.00123304]\n",
      "Filling Variable trkP\n",
      "TFile**\t\t/Users/lukasadamek/cernbox/EOPTuples/haddedTogether/EOPTuples_v02/user.luadamek.mc16_13TeV.361020.jetjet.Sept21_2018_EOP_noTrigger_hist\t\n",
      " TFile*\t\t/Users/lukasadamek/cernbox/EOPTuples/haddedTogether/EOPTuples_v02/user.luadamek.mc16_13TeV.361020.jetjet.Sept21_2018_EOP_noTrigger_hist\t\n",
      "  KEY: TDirectoryFile\tTracks_BasicEvtSel;1\tTracks_BasicEvtSel\n",
      "  KEY: TDirectoryFile\tTracks_LoosePrimary;1\tTracks_LoosePrimary\n",
      "  KEY: TDirectoryFile\tEoverP_ClusterEnergyInDetTrackParticlesLoose;1\tEoverP_ClusterEnergyInDetTrackParticlesLoose\n",
      "  KEY: TDirectoryFile\tEoverP_ClusterEnergyLCWInDetTrackParticlesLoose;1\tEoverP_ClusterEnergyLCWInDetTrackParticlesLoose\n",
      "  KEY: TDirectoryFile\tEoverP_CellEnergyInDetTrackParticlesLoose;1\tEoverP_CellEnergyInDetTrackParticlesLoose\n",
      "  KEY: TTree\tEventLoop_FileExecuted;1\texecuted files\n",
      "  KEY: TH1D\tEventLoop_EventCount;1\tnumber of events per algorithm\n",
      "  KEY: TH1D\tEventLoop_RunTime;1\tworker run-time summary\n",
      "  KEY: TH1D\tEoverP_ClusterEnergyInDetTrackParticlesLoosecutflow_trks_eop;1\tcutflow_trks_1\n",
      "  KEY: TH1D\tEoverP_ClusterEnergyLCWInDetTrackParticlesLoosecutflow_trks_eop;1\tcutflow_trks_1\n",
      "  KEY: TH1D\tEoverP_CellEnergyInDetTrackParticlesLoosecutflow_trks_eop;1\tcutflow_trks_1\n",
      "  KEY: TTree\tEoverP_ClusterEnergyInDetTrackParticlesLoose_tree;1\tEoverP_ClusterEnergyInDetTrackParticlesLoose_tree\n",
      "  KEY: TTree\tEoverP_ClusterEnergyLCWInDetTrackParticlesLoose_tree;1\tEoverP_ClusterEnergyLCWInDetTrackParticlesLoose_tree\n",
      "  KEY: TTree\tEoverP_CellEnergyInDetTrackParticlesLoose_tree;1\tEoverP_CellEnergyInDetTrackParticlesLoose_tree\n",
      "TFile**\t\t/Users/lukasadamek/cernbox/EOPTuples/haddedTogether/EOPTuples_v02/user.luadamek.mc16_13TeV.361021.jetjet.Sept21_2018_EOP_noTrigger_hist\t\n",
      " TFile*\t\t/Users/lukasadamek/cernbox/EOPTuples/haddedTogether/EOPTuples_v02/user.luadamek.mc16_13TeV.361021.jetjet.Sept21_2018_EOP_noTrigger_hist\t\n",
      "  KEY: TDirectoryFile\tTracks_BasicEvtSel;1\tTracks_BasicEvtSel\n",
      "  KEY: TDirectoryFile\tTracks_LoosePrimary;1\tTracks_LoosePrimary\n",
      "  KEY: TDirectoryFile\tEoverP_ClusterEnergyInDetTrackParticlesLoose;1\tEoverP_ClusterEnergyInDetTrackParticlesLoose\n",
      "  KEY: TDirectoryFile\tEoverP_ClusterEnergyLCWInDetTrackParticlesLoose;1\tEoverP_ClusterEnergyLCWInDetTrackParticlesLoose\n",
      "  KEY: TDirectoryFile\tEoverP_CellEnergyInDetTrackParticlesLoose;1\tEoverP_CellEnergyInDetTrackParticlesLoose\n",
      "  KEY: TTree\tEventLoop_FileExecuted;1\texecuted files\n",
      "  KEY: TH1D\tEventLoop_EventCount;1\tnumber of events per algorithm\n",
      "  KEY: TH1D\tEventLoop_RunTime;1\tworker run-time summary\n",
      "  KEY: TH1D\tEoverP_ClusterEnergyInDetTrackParticlesLoosecutflow_trks_eop;1\tcutflow_trks_1\n",
      "  KEY: TH1D\tEoverP_ClusterEnergyLCWInDetTrackParticlesLoosecutflow_trks_eop;1\tcutflow_trks_1\n",
      "  KEY: TH1D\tEoverP_CellEnergyInDetTrackParticlesLoosecutflow_trks_eop;1\tcutflow_trks_1\n",
      "  KEY: TTree\tEoverP_ClusterEnergyInDetTrackParticlesLoose_tree;1\tEoverP_ClusterEnergyInDetTrackParticlesLoose_tree\n",
      "  KEY: TTree\tEoverP_ClusterEnergyLCWInDetTrackParticlesLoose_tree;1\tEoverP_ClusterEnergyLCWInDetTrackParticlesLoose_tree\n",
      "  KEY: TTree\tEoverP_CellEnergyInDetTrackParticlesLoose_tree;1\tEoverP_CellEnergyInDetTrackParticlesLoose_tree\n",
      "TFile**\t\t/Users/lukasadamek/cernbox/EOPTuples/haddedTogether/EOPTuples_v02/user.luadamek.mc16_13TeV.361022.jetjet.Sept21_2018_EOP_noTrigger_hist\t\n",
      " TFile*\t\t/Users/lukasadamek/cernbox/EOPTuples/haddedTogether/EOPTuples_v02/user.luadamek.mc16_13TeV.361022.jetjet.Sept21_2018_EOP_noTrigger_hist\t\n",
      "  KEY: TDirectoryFile\tTracks_BasicEvtSel;1\tTracks_BasicEvtSel\n",
      "  KEY: TDirectoryFile\tTracks_LoosePrimary;1\tTracks_LoosePrimary\n",
      "  KEY: TDirectoryFile\tEoverP_ClusterEnergyInDetTrackParticlesLoose;1\tEoverP_ClusterEnergyInDetTrackParticlesLoose\n",
      "  KEY: TDirectoryFile\tEoverP_ClusterEnergyLCWInDetTrackParticlesLoose;1\tEoverP_ClusterEnergyLCWInDetTrackParticlesLoose\n",
      "  KEY: TDirectoryFile\tEoverP_CellEnergyInDetTrackParticlesLoose;1\tEoverP_CellEnergyInDetTrackParticlesLoose\n",
      "  KEY: TTree\tEventLoop_FileExecuted;1\texecuted files\n",
      "  KEY: TH1D\tEventLoop_EventCount;1\tnumber of events per algorithm\n",
      "  KEY: TH1D\tEventLoop_RunTime;1\tworker run-time summary\n",
      "  KEY: TH1D\tEoverP_ClusterEnergyInDetTrackParticlesLoosecutflow_trks_eop;1\tcutflow_trks_1\n",
      "  KEY: TH1D\tEoverP_ClusterEnergyLCWInDetTrackParticlesLoosecutflow_trks_eop;1\tcutflow_trks_1\n",
      "  KEY: TH1D\tEoverP_CellEnergyInDetTrackParticlesLoosecutflow_trks_eop;1\tcutflow_trks_1\n",
      "  KEY: TTree\tEoverP_ClusterEnergyInDetTrackParticlesLoose_tree;1\tEoverP_ClusterEnergyInDetTrackParticlesLoose_tree\n",
      "  KEY: TTree\tEoverP_ClusterEnergyLCWInDetTrackParticlesLoose_tree;1\tEoverP_ClusterEnergyLCWInDetTrackParticlesLoose_tree\n",
      "  KEY: TTree\tEoverP_CellEnergyInDetTrackParticlesLoose_tree;1\tEoverP_CellEnergyInDetTrackParticlesLoose_tree\n"
     ]
    },
    {
     "name": "stderr",
     "output_type": "stream",
     "text": [
      "Warning in <TClass::Init>: no dictionary for class ROOT::TIOFeatures is available\n"
     ]
    }
   ],
   "source": [
    "histograms = plots.DrawHistogram(calc_trkP, list_selections = [], nBins = 50, range_low = 0, range_high = 50, xlabel =\"\", ylabel = \"\")"
   ]
  },
  {
   "cell_type": "code",
   "execution_count": 7,
   "metadata": {},
   "outputs": [
    {
     "data": {
      "text/plain": [
       "['PythiaJetJet']"
      ]
     },
     "execution_count": 7,
     "metadata": {},
     "output_type": "execute_result"
    }
   ],
   "source": [
    "histograms.keys()"
   ]
  },
  {
   "cell_type": "code",
   "execution_count": 12,
   "metadata": {},
   "outputs": [],
   "source": [
    "canvas = ROOT.TCanvas(\"noname\")"
   ]
  },
  {
   "cell_type": "code",
   "execution_count": 15,
   "metadata": {},
   "outputs": [],
   "source": [
    "histograms['PythiaJetJet'].Draw()"
   ]
  },
  {
   "cell_type": "code",
   "execution_count": 16,
   "metadata": {},
   "outputs": [
    {
     "data": {
      "image/png": "[encoded data removed]",
      "text/plain": [
       "<IPython.core.display.Image object>"
      ]
     },
     "metadata": {},
     "output_type": "display_data"
    }
   ],
   "source": [
    "canvas.Draw()"
   ]
  },
  {
   "cell_type": "code",
   "execution_count": null,
   "metadata": {},
   "outputs": [],
   "source": []
  },
  {
   "cell_type": "code",
   "execution_count": null,
   "metadata": {},
   "outputs": [],
   "source": []
  },
  {
   "cell_type": "code",
   "execution_count": null,
   "metadata": {},
   "outputs": [],
   "source": []
  },
  {
   "cell_type": "code",
   "execution_count": null,
   "metadata": {
    "scrolled": true
   },
   "outputs": [],
   "source": []
  },
  {
   "cell_type": "code",
   "execution_count": null,
   "metadata": {},
   "outputs": [],
   "source": []
  },
  {
   "cell_type": "code",
   "execution_count": null,
   "metadata": {},
   "outputs": [],
   "source": []
  },
  {
   "cell_type": "code",
   "execution_count": null,
   "metadata": {},
   "outputs": [],
   "source": []
  }
 ],
 "metadata": {
  "kernelspec": {
   "display_name": "Python 2",
   "language": "python",
   "name": "python2"
  },
  "language_info": {
   "codemirror_mode": {
    "name": "ipython",
    "version": 2
   },
   "file_extension": ".py",
   "mimetype": "text/x-python",
   "name": "python",
   "nbconvert_exporter": "python",
   "pygments_lexer": "ipython2",
   "version": "2.7.10"
  }
 },
 "nbformat": 4,
 "nbformat_minor": 2
}
